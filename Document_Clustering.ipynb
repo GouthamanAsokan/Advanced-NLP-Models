{
  "nbformat": 4,
  "nbformat_minor": 0,
  "metadata": {
    "colab": {
      "name": "Document_Clustering.ipynb",
      "provenance": []
    },
    "kernelspec": {
      "name": "python3",
      "display_name": "Python 3"
    },
    "accelerator": "GPU"
  },
  "cells": [
    {
      "cell_type": "code",
      "metadata": {
        "id": "PxUWgKXd2pY6",
        "colab_type": "code",
        "colab": {}
      },
      "source": [
        "document = [\"This is the most beautiful place in the world.\",\"This man has more skills to show in cricket than any other game.\",\"Hi there! how was your ladakh trip last month?\",\"There was a player who had scored 200+ runs in single cricket innings in his career.\",\"I have got the opportunity to travel to Paris next year for my internship.\",\"May be he is better than you in batting but you are much better than him in bowling.\",\"That was really a great day for me when I was there at Lavasa for the whole night.\",\"That’s exactly I wanted to become, a highest ratting batsmen ever with top scores.\",\"Does it really matter whether you go to Thailand or Goa, its just you have spend your holidays.\",\"Why don’t you go to Switzerland next year for your 25th Wedding anniversary?\",\"Travel is fatal to prejudice, bigotry, and narrow mindedness., and many of our people need it sorely on these accounts.\",\"Stop worrying about the potholes in the road and enjoy the journey.\",\"No cricket team in the world depends on one or two players. The team always plays to win.\",\"Cricket is a team game. If you want fame for yourself, go play an individual game.\",\"Because in the end, you won’t remember the time you spent working in the office or mowing your lawn. Climb that goddamn mountain.\",\"Isn’t cricket supposed to be a team sport? I feel people should decide first whether cricket is a team game or an individual sport.\"]"
      ],
      "execution_count": 0,
      "outputs": []
    },
    {
      "cell_type": "code",
      "metadata": {
        "id": "HgMI1W3D4cIt",
        "colab_type": "code",
        "colab": {}
      },
      "source": [
        "from sklearn.feature_extraction.text import TfidfVectorizer\n",
        "from sklearn.cluster import KMeans\n",
        "import numpy as np\n",
        "import pandas as pd"
      ],
      "execution_count": 0,
      "outputs": []
    },
    {
      "cell_type": "code",
      "metadata": {
        "id": "IKkRtXpl4f5R",
        "colab_type": "code",
        "colab": {}
      },
      "source": [
        "vectorizer = TfidfVectorizer(stop_words='english')\n",
        "X = vectorizer.fit_transform(document)"
      ],
      "execution_count": 0,
      "outputs": []
    },
    {
      "cell_type": "code",
      "metadata": {
        "id": "zJRYm9_D4o34",
        "colab_type": "code",
        "colab": {
          "base_uri": "https://localhost:8080/",
          "height": 68
        },
        "outputId": "5d0d2eaa-b320-4bed-d244-95b6df2b9bb8"
      },
      "source": [
        "true_k = 2\n",
        "model = KMeans(n_clusters=true_k, init='k-means++', max_iter=100, n_init=1)\n",
        "model.fit(X)"
      ],
      "execution_count": 4,
      "outputs": [
        {
          "output_type": "execute_result",
          "data": {
            "text/plain": [
              "KMeans(algorithm='auto', copy_x=True, init='k-means++', max_iter=100,\n",
              "       n_clusters=2, n_init=1, n_jobs=None, precompute_distances='auto',\n",
              "       random_state=None, tol=0.0001, verbose=0)"
            ]
          },
          "metadata": {
            "tags": []
          },
          "execution_count": 4
        }
      ]
    },
    {
      "cell_type": "code",
      "metadata": {
        "id": "-QnjI2Op45G3",
        "colab_type": "code",
        "colab": {}
      },
      "source": [
        "order_centroids = model.cluster_centers_.argsort()[:, ::-1]\n",
        "terms = vectorizer.get_feature_names()"
      ],
      "execution_count": 0,
      "outputs": []
    },
    {
      "cell_type": "code",
      "metadata": {
        "id": "M8vYiT1P5Yn9",
        "colab_type": "code",
        "colab": {
          "base_uri": "https://localhost:8080/",
          "height": 221
        },
        "outputId": "e3fb5311-bcc4-4a9d-9d87-fc9f42d8ba4d"
      },
      "source": [
        "order_centroids"
      ],
      "execution_count": 6,
      "outputs": [
        {
          "output_type": "execute_result",
          "data": {
            "text/plain": [
              "array([[12, 77, 24, 88,  7, 62, 54,  6, 69, 41, 32, 73, 53, 29, 81, 38,\n",
              "        44, 28, 13, 39, 49,  4, 36, 59, 19, 61, 74, 64, 30, 67, 89, 83,\n",
              "        20,  9,  5, 82, 55, 21,  0, 56, 65, 66, 33, 10, 68, 57, 58, 85,\n",
              "        15, 16, 78, 31, 71, 25, 37, 42, 60, 43, 70, 48,  8, 47,  2, 22,\n",
              "        18, 11, 45, 63, 26, 87, 86, 40, 79, 46, 50, 72, 80, 75, 23, 14,\n",
              "        35, 52, 51, 76, 17, 84, 34,  3, 27,  1, 90],\n",
              "       [90, 34, 27, 52, 51,  1,  3, 17, 76, 84, 80, 39, 31, 25, 26, 28,\n",
              "        29, 30, 33, 32, 40, 23, 35, 36, 37, 38, 24, 20, 22, 21,  2,  4,\n",
              "         5,  6,  7,  8,  9, 10, 11, 12, 13, 14, 15, 16, 18, 19, 42, 41,\n",
              "        45, 43, 77, 68, 69, 70, 71, 72, 73, 74, 75, 78, 44, 79, 81, 82,\n",
              "        83, 85, 86, 87, 88, 67, 66, 65, 64, 89, 46, 47, 48, 49, 50, 53,\n",
              "        54, 55, 56, 57, 58, 59, 60, 61, 62, 63,  0]])"
            ]
          },
          "metadata": {
            "tags": []
          },
          "execution_count": 6
        }
      ]
    },
    {
      "cell_type": "code",
      "metadata": {
        "id": "LCm33x0t5dpX",
        "colab_type": "code",
        "colab": {
          "base_uri": "https://localhost:8080/",
          "height": 1000
        },
        "outputId": "11d138ce-c814-465b-a9ba-684720dce508"
      },
      "source": [
        "terms"
      ],
      "execution_count": 7,
      "outputs": [
        {
          "output_type": "execute_result",
          "data": {
            "text/plain": [
              "['200',\n",
              " '25th',\n",
              " 'accounts',\n",
              " 'anniversary',\n",
              " 'batsmen',\n",
              " 'batting',\n",
              " 'beautiful',\n",
              " 'better',\n",
              " 'bigotry',\n",
              " 'bowling',\n",
              " 'career',\n",
              " 'climb',\n",
              " 'cricket',\n",
              " 'day',\n",
              " 'decide',\n",
              " 'depends',\n",
              " 'does',\n",
              " 'don',\n",
              " 'end',\n",
              " 'enjoy',\n",
              " 'exactly',\n",
              " 'fame',\n",
              " 'fatal',\n",
              " 'feel',\n",
              " 'game',\n",
              " 'goa',\n",
              " 'goddamn',\n",
              " 'got',\n",
              " 'great',\n",
              " 'hi',\n",
              " 'highest',\n",
              " 'holidays',\n",
              " 'individual',\n",
              " 'innings',\n",
              " 'internship',\n",
              " 'isn',\n",
              " 'journey',\n",
              " 'just',\n",
              " 'ladakh',\n",
              " 'lavasa',\n",
              " 'lawn',\n",
              " 'man',\n",
              " 'matter',\n",
              " 'mindedness',\n",
              " 'month',\n",
              " 'mountain',\n",
              " 'mowing',\n",
              " 'narrow',\n",
              " 'need',\n",
              " 'night',\n",
              " 'office',\n",
              " 'opportunity',\n",
              " 'paris',\n",
              " 'people',\n",
              " 'place',\n",
              " 'play',\n",
              " 'player',\n",
              " 'players',\n",
              " 'plays',\n",
              " 'potholes',\n",
              " 'prejudice',\n",
              " 'ratting',\n",
              " 'really',\n",
              " 'remember',\n",
              " 'road',\n",
              " 'runs',\n",
              " 'scored',\n",
              " 'scores',\n",
              " 'single',\n",
              " 'skills',\n",
              " 'sorely',\n",
              " 'spend',\n",
              " 'spent',\n",
              " 'sport',\n",
              " 'stop',\n",
              " 'supposed',\n",
              " 'switzerland',\n",
              " 'team',\n",
              " 'thailand',\n",
              " 'time',\n",
              " 'travel',\n",
              " 'trip',\n",
              " 'want',\n",
              " 'wanted',\n",
              " 'wedding',\n",
              " 'win',\n",
              " 'won',\n",
              " 'working',\n",
              " 'world',\n",
              " 'worrying',\n",
              " 'year']"
            ]
          },
          "metadata": {
            "tags": []
          },
          "execution_count": 7
        }
      ]
    },
    {
      "cell_type": "code",
      "metadata": {
        "id": "2mF5MaoE5iNO",
        "colab_type": "code",
        "colab": {
          "base_uri": "https://localhost:8080/",
          "height": 391
        },
        "outputId": "c07182f1-3a3e-4f5d-e2c5-060512889c4d"
      },
      "source": [
        "for i in range(true_k):\n",
        " print(\"Cluster %d:\" % i),\n",
        " for ind in order_centroids[i, :10]:\n",
        "   print(' %s' % terms[ind])"
      ],
      "execution_count": 9,
      "outputs": [
        {
          "output_type": "stream",
          "text": [
            "Cluster 0:\n",
            " cricket\n",
            " team\n",
            " game\n",
            " world\n",
            " better\n",
            " really\n",
            " place\n",
            " beautiful\n",
            " skills\n",
            " man\n",
            "Cluster 1:\n",
            " year\n",
            " internship\n",
            " got\n",
            " paris\n",
            " opportunity\n",
            " 25th\n",
            " anniversary\n",
            " don\n",
            " switzerland\n",
            " wedding\n"
          ],
          "name": "stdout"
        }
      ]
    },
    {
      "cell_type": "code",
      "metadata": {
        "id": "F2txh1sfwNw8",
        "colab_type": "code",
        "colab": {
          "base_uri": "https://localhost:8080/",
          "height": 85
        },
        "outputId": "c3a45382-8b0f-445e-eca2-ce3a00bbcf0f"
      },
      "source": [
        "print(\"\\n\")\n",
        "print(\"Prediction\")\n",
        "X = vectorizer.transform([\"Nothing is easy in cricket. Maybe when you watch it on TV, it looks easy. But it is not. You have to use your brain and time the ball.\"])\n",
        "predicted = model.predict(X)\n",
        "print(predicted)"
      ],
      "execution_count": 10,
      "outputs": [
        {
          "output_type": "stream",
          "text": [
            "\n",
            "\n",
            "Prediction\n",
            "[0]\n"
          ],
          "name": "stdout"
        }
      ]
    }
  ]
}