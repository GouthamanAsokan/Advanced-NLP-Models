{
  "nbformat": 4,
  "nbformat_minor": 0,
  "metadata": {
    "colab": {
      "name": "Seq2seq.ipynb",
      "provenance": [],
      "collapsed_sections": [],
      "toc_visible": true
    },
    "kernelspec": {
      "name": "python3",
      "display_name": "Python 3"
    },
    "accelerator": "GPU"
  },
  "cells": [
    {
      "cell_type": "code",
      "metadata": {
        "id": "_jJ5_yNZouk1",
        "colab_type": "code",
        "colab": {}
      },
      "source": [
        "from __future__ import print_function, division\n",
        "from builtins import range, input"
      ],
      "execution_count": 0,
      "outputs": []
    },
    {
      "cell_type": "code",
      "metadata": {
        "id": "FhRaGgojo5ln",
        "colab_type": "code",
        "colab": {
          "base_uri": "https://localhost:8080/",
          "height": 253
        },
        "outputId": "31c071c8-f2a6-4415-abc1-95928ed2b03b"
      },
      "source": [
        "import os, sys\n",
        "\n",
        "from keras.models import Model\n",
        "from keras.layers import Input, LSTM, GRU, Dense, Embedding\n",
        "from keras.preprocessing.text import Tokenizer\n",
        "from keras.preprocessing.sequence import pad_sequences\n",
        "from keras.utils import to_categorical\n",
        "import numpy as np\n",
        "import matplotlib.pyplot as plt\n",
        "\n",
        "import keras.backend as K\n",
        "if len(K.tensorflow_backend._get_available_gpus()) > 0:\n",
        "  from keras.layers import CuDNNLSTM as LSTM\n",
        "  from keras.layers import CuDNNGRU as GRU"
      ],
      "execution_count": 2,
      "outputs": [
        {
          "output_type": "stream",
          "text": [
            "Using TensorFlow backend.\n"
          ],
          "name": "stderr"
        },
        {
          "output_type": "display_data",
          "data": {
            "text/html": [
              "<p style=\"color: red;\">\n",
              "The default version of TensorFlow in Colab will soon switch to TensorFlow 2.x.<br>\n",
              "We recommend you <a href=\"https://www.tensorflow.org/guide/migrate\" target=\"_blank\">upgrade</a> now \n",
              "or ensure your notebook will continue to use TensorFlow 1.x via the <code>%tensorflow_version 1.x</code> magic:\n",
              "<a href=\"https://colab.research.google.com/notebooks/tensorflow_version.ipynb\" target=\"_blank\">more info</a>.</p>\n"
            ],
            "text/plain": [
              "<IPython.core.display.HTML object>"
            ]
          },
          "metadata": {
            "tags": []
          }
        },
        {
          "output_type": "stream",
          "text": [
            "WARNING:tensorflow:From /usr/local/lib/python3.6/dist-packages/keras/backend/tensorflow_backend.py:190: The name tf.get_default_session is deprecated. Please use tf.compat.v1.get_default_session instead.\n",
            "\n",
            "WARNING:tensorflow:From /usr/local/lib/python3.6/dist-packages/keras/backend/tensorflow_backend.py:197: The name tf.ConfigProto is deprecated. Please use tf.compat.v1.ConfigProto instead.\n",
            "\n",
            "WARNING:tensorflow:From /usr/local/lib/python3.6/dist-packages/keras/backend/tensorflow_backend.py:203: The name tf.Session is deprecated. Please use tf.compat.v1.Session instead.\n",
            "\n",
            "WARNING:tensorflow:From /usr/local/lib/python3.6/dist-packages/keras/backend/tensorflow_backend.py:207: The name tf.global_variables is deprecated. Please use tf.compat.v1.global_variables instead.\n",
            "\n"
          ],
          "name": "stdout"
        }
      ]
    },
    {
      "cell_type": "code",
      "metadata": {
        "id": "zo0OxZFxo_kB",
        "colab_type": "code",
        "colab": {
          "base_uri": "https://localhost:8080/",
          "height": 122
        },
        "outputId": "be36f0ee-2e02-41ae-c0f7-bc75a25b0c14"
      },
      "source": [
        "from google.colab import drive\n",
        "drive.mount('/content/drive')"
      ],
      "execution_count": 3,
      "outputs": [
        {
          "output_type": "stream",
          "text": [
            "Go to this URL in a browser: https://accounts.google.com/o/oauth2/auth?client_id=947318989803-6bn6qk8qdgf4n4g3pfee6491hc0brc4i.apps.googleusercontent.com&redirect_uri=urn%3Aietf%3Awg%3Aoauth%3A2.0%3Aoob&scope=email%20https%3A%2F%2Fwww.googleapis.com%2Fauth%2Fdocs.test%20https%3A%2F%2Fwww.googleapis.com%2Fauth%2Fdrive%20https%3A%2F%2Fwww.googleapis.com%2Fauth%2Fdrive.photos.readonly%20https%3A%2F%2Fwww.googleapis.com%2Fauth%2Fpeopleapi.readonly&response_type=code\n",
            "\n",
            "Enter your authorization code:\n",
            "··········\n",
            "Mounted at /content/drive\n"
          ],
          "name": "stdout"
        }
      ]
    },
    {
      "cell_type": "code",
      "metadata": {
        "id": "3JTxKFiQpc_Q",
        "colab_type": "code",
        "colab": {}
      },
      "source": [
        "# some config\n",
        "BATCH_SIZE = 64  # Batch size for training.\n",
        "EPOCHS = 100  # Number of epochs to train for.\n",
        "LATENT_DIM = 256  # Latent dimensionality of the encoding space.\n",
        "NUM_SAMPLES = 10000  # Number of samples to train on.\n",
        "MAX_SEQUENCE_LENGTH = 100\n",
        "MAX_NUM_WORDS = 20000\n",
        "EMBEDDING_DIM = 50\n"
      ],
      "execution_count": 0,
      "outputs": []
    },
    {
      "cell_type": "code",
      "metadata": {
        "id": "tCJDexNjpkzv",
        "colab_type": "code",
        "colab": {}
      },
      "source": [
        "# Where we will store the data\n",
        "input_texts = [] # sentence in original language\n",
        "target_texts = [] # sentence in target language\n",
        "target_texts_inputs = [] # sentence in target language offset by 1\n"
      ],
      "execution_count": 0,
      "outputs": []
    },
    {
      "cell_type": "code",
      "metadata": {
        "id": "e5CrOjqcpoz9",
        "colab_type": "code",
        "colab": {
          "base_uri": "https://localhost:8080/",
          "height": 34
        },
        "outputId": "e31f4c6f-05c0-45ae-d7c3-29a931ec9859"
      },
      "source": [
        "# load in the data\n",
        "t = 0\n",
        "for line in open('/content/drive/My Drive/Language Translation/fra.txt'):\n",
        "  # only keep a limited number of samples\n",
        "  t += 1\n",
        "  if t > NUM_SAMPLES:\n",
        "    break\n",
        "\n",
        "  # input and target are separated by tab\n",
        "  if '\\t' not in line:\n",
        "    continue\n",
        "\n",
        "  # split up the input and translation\n",
        "  input_text, translation = line.rstrip().split('\\t')\n",
        "\n",
        "  # make the target input and output\n",
        "  # recall we'll be using teacher forcing\n",
        "  target_text = translation + ' <eos>'\n",
        "  target_text_input = '<sos> ' + translation\n",
        "\n",
        "  input_texts.append(input_text)\n",
        "  target_texts.append(target_text)\n",
        "  target_texts_inputs.append(target_text_input)\n",
        "print(\"num samples:\", len(input_texts))\n"
      ],
      "execution_count": 6,
      "outputs": [
        {
          "output_type": "stream",
          "text": [
            "num samples: 10000\n"
          ],
          "name": "stdout"
        }
      ]
    },
    {
      "cell_type": "code",
      "metadata": {
        "id": "mK7dhj6cp3W0",
        "colab_type": "code",
        "colab": {
          "base_uri": "https://localhost:8080/",
          "height": 34
        },
        "outputId": "ec0d3352-1c99-41f2-e3f6-9e0bf89f39aa"
      },
      "source": [
        "# tokenize the inputs\n",
        "tokenizer_inputs = Tokenizer(num_words=MAX_NUM_WORDS)\n",
        "tokenizer_inputs.fit_on_texts(input_texts)\n",
        "input_sequences = tokenizer_inputs.texts_to_sequences(input_texts)\n",
        "\n",
        "# get the word to index mapping for input language\n",
        "word2idx_inputs = tokenizer_inputs.word_index\n",
        "print('Found %s unique input tokens.' % len(word2idx_inputs))\n",
        "\n",
        "# determine maximum length input sequence\n",
        "max_len_input = max(len(s) for s in input_sequences)"
      ],
      "execution_count": 7,
      "outputs": [
        {
          "output_type": "stream",
          "text": [
            "Found 2139 unique input tokens.\n"
          ],
          "name": "stdout"
        }
      ]
    },
    {
      "cell_type": "code",
      "metadata": {
        "id": "u5IieUP5qBZB",
        "colab_type": "code",
        "colab": {}
      },
      "source": [
        "# tokenize the outputs\n",
        "# don't filter out special characters\n",
        "# otherwise <sos> and <eos> won't appear\n",
        "tokenizer_outputs = Tokenizer(num_words=MAX_NUM_WORDS, filters='')\n",
        "tokenizer_outputs.fit_on_texts(target_texts + target_texts_inputs) # inefficient, oh well\n",
        "target_sequences = tokenizer_outputs.texts_to_sequences(target_texts)\n",
        "target_sequences_inputs = tokenizer_outputs.texts_to_sequences(target_texts_inputs)\n"
      ],
      "execution_count": 0,
      "outputs": []
    },
    {
      "cell_type": "code",
      "metadata": {
        "id": "H7xH-h2nqFTX",
        "colab_type": "code",
        "colab": {
          "base_uri": "https://localhost:8080/",
          "height": 34
        },
        "outputId": "1cd51ebc-6abc-4938-c982-b2714a82ff38"
      },
      "source": [
        "# get the word to index mapping for output language\n",
        "word2idx_outputs = tokenizer_outputs.word_index\n",
        "print('Found %s unique output tokens.' % len(word2idx_outputs))\n",
        "\n",
        "# store number of output words for later\n",
        "# remember to add 1 since indexing starts at 1\n",
        "num_words_output = len(word2idx_outputs) + 1\n",
        "\n",
        "# determine maximum length output sequence\n",
        "max_len_target = max(len(s) for s in target_sequences)\n"
      ],
      "execution_count": 9,
      "outputs": [
        {
          "output_type": "stream",
          "text": [
            "Found 5771 unique output tokens.\n"
          ],
          "name": "stdout"
        }
      ]
    },
    {
      "cell_type": "code",
      "metadata": {
        "id": "5I7kCDduqMVB",
        "colab_type": "code",
        "colab": {
          "base_uri": "https://localhost:8080/",
          "height": 85
        },
        "outputId": "01ddfe34-8028-42e0-858d-939449082943"
      },
      "source": [
        "# pad the sequences\n",
        "encoder_inputs = pad_sequences(input_sequences, maxlen=max_len_input)\n",
        "print(\"encoder_inputs.shape:\", encoder_inputs.shape)\n",
        "print(\"encoder_inputs[0]:\", encoder_inputs[0])\n",
        "\n",
        "decoder_inputs = pad_sequences(target_sequences_inputs, maxlen=max_len_target, padding='post')\n",
        "print(\"decoder_inputs[0]:\", decoder_inputs[0])\n",
        "print(\"decoder_inputs.shape:\", decoder_inputs.shape)\n",
        "\n",
        "decoder_targets = pad_sequences(target_sequences, maxlen=max_len_target, padding='post')\n"
      ],
      "execution_count": 10,
      "outputs": [
        {
          "output_type": "stream",
          "text": [
            "encoder_inputs.shape: (10000, 5)\n",
            "encoder_inputs[0]: [ 0  0  0  0 14]\n",
            "decoder_inputs[0]: [ 2 56  4  0  0  0  0  0  0  0  0]\n",
            "decoder_inputs.shape: (10000, 11)\n"
          ],
          "name": "stdout"
        }
      ]
    },
    {
      "cell_type": "code",
      "metadata": {
        "id": "dgKX5fsWqVp5",
        "colab_type": "code",
        "colab": {
          "base_uri": "https://localhost:8080/",
          "height": 357
        },
        "outputId": "9cdcea89-8622-4cdc-b864-5d26ef64300e"
      },
      "source": [
        "!wget http://nlp.stanford.edu/data/glove.6B.zip"
      ],
      "execution_count": 11,
      "outputs": [
        {
          "output_type": "stream",
          "text": [
            "--2019-10-30 12:35:46--  http://nlp.stanford.edu/data/glove.6B.zip\n",
            "Resolving nlp.stanford.edu (nlp.stanford.edu)... 171.64.67.140\n",
            "Connecting to nlp.stanford.edu (nlp.stanford.edu)|171.64.67.140|:80... connected.\n",
            "HTTP request sent, awaiting response... 302 Found\n",
            "Location: https://nlp.stanford.edu/data/glove.6B.zip [following]\n",
            "--2019-10-30 12:35:46--  https://nlp.stanford.edu/data/glove.6B.zip\n",
            "Connecting to nlp.stanford.edu (nlp.stanford.edu)|171.64.67.140|:443... connected.\n",
            "HTTP request sent, awaiting response... 301 Moved Permanently\n",
            "Location: http://downloads.cs.stanford.edu/nlp/data/glove.6B.zip [following]\n",
            "--2019-10-30 12:35:46--  http://downloads.cs.stanford.edu/nlp/data/glove.6B.zip\n",
            "Resolving downloads.cs.stanford.edu (downloads.cs.stanford.edu)... 171.64.64.22\n",
            "Connecting to downloads.cs.stanford.edu (downloads.cs.stanford.edu)|171.64.64.22|:80... connected.\n",
            "HTTP request sent, awaiting response... 200 OK\n",
            "Length: 862182613 (822M) [application/zip]\n",
            "Saving to: ‘glove.6B.zip’\n",
            "\n",
            "glove.6B.zip        100%[===================>] 822.24M  2.04MB/s    in 6m 26s  \n",
            "\n",
            "2019-10-30 12:42:12 (2.13 MB/s) - ‘glove.6B.zip’ saved [862182613/862182613]\n",
            "\n"
          ],
          "name": "stdout"
        }
      ]
    },
    {
      "cell_type": "code",
      "metadata": {
        "id": "6Y9KRdqWsJ7h",
        "colab_type": "code",
        "colab": {
          "base_uri": "https://localhost:8080/",
          "height": 102
        },
        "outputId": "c79f1bae-ab95-416f-88a3-52fdf2799556"
      },
      "source": [
        "!unzip glove*.zip"
      ],
      "execution_count": 12,
      "outputs": [
        {
          "output_type": "stream",
          "text": [
            "Archive:  glove.6B.zip\n",
            "  inflating: glove.6B.50d.txt        \n",
            "  inflating: glove.6B.100d.txt       \n",
            "  inflating: glove.6B.200d.txt       \n",
            "  inflating: glove.6B.300d.txt       \n"
          ],
          "name": "stdout"
        }
      ]
    },
    {
      "cell_type": "code",
      "metadata": {
        "id": "9SA4dKT_sWEg",
        "colab_type": "code",
        "colab": {
          "base_uri": "https://localhost:8080/",
          "height": 51
        },
        "outputId": "09e26501-c4fa-4864-d20f-4efc0c716168"
      },
      "source": [
        "# store all the pre-trained word vectors\n",
        "import io\n",
        "print('Loading word vectors...')\n",
        "word2vec = {}\n",
        "with io.open('glove.6B.50d.txt', encoding='utf8') as f:\n",
        "  # is just a space-separated text file in the format:\n",
        "  # word vec[0] vec[1] vec[2] ...\n",
        "  for line in f:\n",
        "    values = line.split()\n",
        "    word = values[0]\n",
        "    vec = np.asarray(values[1:], dtype='float32')\n",
        "    word2vec[word] = vec\n",
        "print('Found %s word vectors.' % len(word2vec))"
      ],
      "execution_count": 13,
      "outputs": [
        {
          "output_type": "stream",
          "text": [
            "Loading word vectors...\n",
            "Found 400000 word vectors.\n"
          ],
          "name": "stdout"
        }
      ]
    },
    {
      "cell_type": "code",
      "metadata": {
        "id": "l_47FJj5sbO5",
        "colab_type": "code",
        "colab": {
          "base_uri": "https://localhost:8080/",
          "height": 34
        },
        "outputId": "de026e42-93f2-4266-b606-4390a6a427eb"
      },
      "source": [
        "# prepare embedding matrix\n",
        "print('Filling pre-trained embeddings...')\n",
        "num_words = min(MAX_NUM_WORDS, len(word2idx_inputs) + 1)\n",
        "embedding_matrix = np.zeros((num_words, 50))\n",
        "for word, i in word2idx_inputs.items():\n",
        "  if i < MAX_NUM_WORDS:\n",
        "    embedding_vector = word2vec.get(word)\n",
        "    if embedding_vector is not None:\n",
        "      # words not found in embedding index will be all zeros.\n",
        "      embedding_matrix[i] = embedding_vector\n"
      ],
      "execution_count": 14,
      "outputs": [
        {
          "output_type": "stream",
          "text": [
            "Filling pre-trained embeddings...\n"
          ],
          "name": "stdout"
        }
      ]
    },
    {
      "cell_type": "code",
      "metadata": {
        "id": "eNmR6sWvspvs",
        "colab_type": "code",
        "colab": {
          "base_uri": "https://localhost:8080/",
          "height": 71
        },
        "outputId": "8d19e511-e733-4998-b922-9c2ea9b2fde5"
      },
      "source": [
        "# create embedding layer\n",
        "embedding_layer = Embedding(\n",
        "  num_words,\n",
        "  EMBEDDING_DIM,\n",
        "  weights=[embedding_matrix],\n",
        "  input_length=max_len_input,\n",
        "  # trainable=True\n",
        ")"
      ],
      "execution_count": 15,
      "outputs": [
        {
          "output_type": "stream",
          "text": [
            "WARNING:tensorflow:From /usr/local/lib/python3.6/dist-packages/keras/backend/tensorflow_backend.py:66: The name tf.get_default_graph is deprecated. Please use tf.compat.v1.get_default_graph instead.\n",
            "\n"
          ],
          "name": "stdout"
        }
      ]
    },
    {
      "cell_type": "code",
      "metadata": {
        "id": "ImWO099jsuHY",
        "colab_type": "code",
        "colab": {}
      },
      "source": [
        "# create targets, since we cannot use sparse\n",
        "# categorical cross entropy when we have sequences\n",
        "decoder_targets_one_hot = np.zeros(\n",
        "  (\n",
        "    len(input_texts),\n",
        "    max_len_target,\n",
        "    num_words_output\n",
        "  ),\n",
        "  dtype='float32'\n",
        ")"
      ],
      "execution_count": 0,
      "outputs": []
    },
    {
      "cell_type": "code",
      "metadata": {
        "id": "ORTsQFrzsxtX",
        "colab_type": "code",
        "colab": {}
      },
      "source": [
        "# assign the values\n",
        "for i, d in enumerate(decoder_targets):\n",
        "  for t, word in enumerate(d):\n",
        "    decoder_targets_one_hot[i, t, word] = 1\n"
      ],
      "execution_count": 0,
      "outputs": []
    },
    {
      "cell_type": "code",
      "metadata": {
        "id": "mDoVBVAZs1i2",
        "colab_type": "code",
        "colab": {
          "base_uri": "https://localhost:8080/",
          "height": 173
        },
        "outputId": "de2eb92b-eabc-4440-8215-9f9d9f22d6ce"
      },
      "source": [
        "##### build the model #####\n",
        "encoder_inputs_placeholder = Input(shape=(max_len_input,))\n",
        "x = embedding_layer(encoder_inputs_placeholder)\n",
        "encoder = LSTM(\n",
        "  LATENT_DIM,\n",
        "  return_state=True,\n",
        "  # dropout=0.5 # dropout not available on gpu\n",
        ")\n",
        "encoder_outputs, h, c = encoder(x)\n",
        "# encoder_outputs, h = encoder(x) #gru\n",
        "\n",
        "# keep only the states to pass into decoder\n",
        "encoder_states = [h, c]\n",
        "# encoder_states = [state_h] # gru\n",
        "\n",
        "# Set up the decoder, using [h, c] as initial state.\n",
        "decoder_inputs_placeholder = Input(shape=(max_len_target,))\n",
        "\n",
        "# this word embedding will not use pre-trained vectors\n",
        "# although you could\n",
        "decoder_embedding = Embedding(num_words_output, LATENT_DIM)\n",
        "decoder_inputs_x = decoder_embedding(decoder_inputs_placeholder)\n",
        "\n",
        "# since the decoder is a \"to-many\" model we want to have\n",
        "# return_sequences=True\n",
        "decoder_lstm = LSTM(\n",
        "  LATENT_DIM,\n",
        "  return_sequences=True,\n",
        "  return_state=True,\n",
        "  # dropout=0.5 # dropout not available on gpu\n",
        ")\n",
        "decoder_outputs, _, _ = decoder_lstm(\n",
        "  decoder_inputs_x,\n",
        "  initial_state=encoder_states\n",
        ")\n",
        "\n",
        "# decoder_outputs, _ = decoder_gru(\n",
        "#   decoder_inputs_x,\n",
        "#   initial_state=encoder_states\n",
        "# )\n",
        "\n",
        "# final dense layer for predictions\n",
        "decoder_dense = Dense(num_words_output, activation='softmax')\n",
        "decoder_outputs = decoder_dense(decoder_outputs)\n",
        "\n",
        "# Create the model object\n",
        "model = Model([encoder_inputs_placeholder, decoder_inputs_placeholder], decoder_outputs)\n"
      ],
      "execution_count": 18,
      "outputs": [
        {
          "output_type": "stream",
          "text": [
            "WARNING:tensorflow:From /usr/local/lib/python3.6/dist-packages/keras/backend/tensorflow_backend.py:541: The name tf.placeholder is deprecated. Please use tf.compat.v1.placeholder instead.\n",
            "\n",
            "WARNING:tensorflow:From /usr/local/lib/python3.6/dist-packages/keras/backend/tensorflow_backend.py:4432: The name tf.random_uniform is deprecated. Please use tf.random.uniform instead.\n",
            "\n",
            "WARNING:tensorflow:From /usr/local/lib/python3.6/dist-packages/keras/backend/tensorflow_backend.py:216: The name tf.is_variable_initialized is deprecated. Please use tf.compat.v1.is_variable_initialized instead.\n",
            "\n",
            "WARNING:tensorflow:From /usr/local/lib/python3.6/dist-packages/keras/backend/tensorflow_backend.py:223: The name tf.variables_initializer is deprecated. Please use tf.compat.v1.variables_initializer instead.\n",
            "\n"
          ],
          "name": "stdout"
        }
      ]
    },
    {
      "cell_type": "code",
      "metadata": {
        "id": "utrzQlTbtAz6",
        "colab_type": "code",
        "colab": {
          "base_uri": "https://localhost:8080/",
          "height": 1000
        },
        "outputId": "b32e3729-1d78-446e-db5f-4c5b9baec953"
      },
      "source": [
        "# Compile the model and train it\n",
        "model.compile(\n",
        "  optimizer='rmsprop',\n",
        "  loss='categorical_crossentropy',\n",
        "  metrics=['accuracy']\n",
        ")\n",
        "r = model.fit(\n",
        "  [encoder_inputs, decoder_inputs], decoder_targets_one_hot,\n",
        "  batch_size=BATCH_SIZE,\n",
        "  epochs=EPOCHS,\n",
        "  validation_split=0.2,\n",
        ")"
      ],
      "execution_count": 19,
      "outputs": [
        {
          "output_type": "stream",
          "text": [
            "WARNING:tensorflow:From /usr/local/lib/python3.6/dist-packages/keras/optimizers.py:793: The name tf.train.Optimizer is deprecated. Please use tf.compat.v1.train.Optimizer instead.\n",
            "\n",
            "WARNING:tensorflow:From /usr/local/lib/python3.6/dist-packages/keras/backend/tensorflow_backend.py:3576: The name tf.log is deprecated. Please use tf.math.log instead.\n",
            "\n",
            "WARNING:tensorflow:From /usr/local/lib/python3.6/dist-packages/tensorflow_core/python/ops/math_grad.py:1424: where (from tensorflow.python.ops.array_ops) is deprecated and will be removed in a future version.\n",
            "Instructions for updating:\n",
            "Use tf.where in 2.0, which has the same broadcast rule as np.where\n",
            "WARNING:tensorflow:From /usr/local/lib/python3.6/dist-packages/keras/backend/tensorflow_backend.py:1033: The name tf.assign_add is deprecated. Please use tf.compat.v1.assign_add instead.\n",
            "\n",
            "WARNING:tensorflow:From /usr/local/lib/python3.6/dist-packages/keras/backend/tensorflow_backend.py:1020: The name tf.assign is deprecated. Please use tf.compat.v1.assign instead.\n",
            "\n",
            "Train on 8000 samples, validate on 2000 samples\n",
            "Epoch 1/100\n",
            "8000/8000 [==============================] - 9s 1ms/step - loss: 2.3906 - acc: 0.6743 - val_loss: 2.2023 - val_acc: 0.6870\n",
            "Epoch 2/100\n",
            "8000/8000 [==============================] - 5s 667us/step - loss: 1.7725 - acc: 0.7277 - val_loss: 2.0372 - val_acc: 0.7109\n",
            "Epoch 3/100\n",
            "8000/8000 [==============================] - 5s 663us/step - loss: 1.5561 - acc: 0.7586 - val_loss: 1.8850 - val_acc: 0.7321\n",
            "Epoch 4/100\n",
            "8000/8000 [==============================] - 5s 662us/step - loss: 1.4033 - acc: 0.7787 - val_loss: 1.7769 - val_acc: 0.7513\n",
            "Epoch 5/100\n",
            "8000/8000 [==============================] - 5s 662us/step - loss: 1.2898 - acc: 0.7946 - val_loss: 1.7241 - val_acc: 0.7621\n",
            "Epoch 6/100\n",
            "8000/8000 [==============================] - 5s 662us/step - loss: 1.1997 - acc: 0.8058 - val_loss: 1.7130 - val_acc: 0.7633\n",
            "Epoch 7/100\n",
            "8000/8000 [==============================] - 5s 662us/step - loss: 1.1238 - acc: 0.8140 - val_loss: 1.6750 - val_acc: 0.7652\n",
            "Epoch 8/100\n",
            "8000/8000 [==============================] - 5s 662us/step - loss: 1.0566 - acc: 0.8220 - val_loss: 1.6672 - val_acc: 0.7656\n",
            "Epoch 9/100\n",
            "8000/8000 [==============================] - 5s 661us/step - loss: 0.9955 - acc: 0.8285 - val_loss: 1.6595 - val_acc: 0.7660\n",
            "Epoch 10/100\n",
            "8000/8000 [==============================] - 5s 659us/step - loss: 0.9376 - acc: 0.8342 - val_loss: 1.6604 - val_acc: 0.7672\n",
            "Epoch 11/100\n",
            "8000/8000 [==============================] - 5s 658us/step - loss: 0.8877 - acc: 0.8407 - val_loss: 1.6522 - val_acc: 0.7688\n",
            "Epoch 12/100\n",
            "8000/8000 [==============================] - 5s 673us/step - loss: 0.8441 - acc: 0.8464 - val_loss: 1.6599 - val_acc: 0.7705\n",
            "Epoch 13/100\n",
            "8000/8000 [==============================] - 5s 669us/step - loss: 0.8017 - acc: 0.8535 - val_loss: 1.6674 - val_acc: 0.7710\n",
            "Epoch 14/100\n",
            "8000/8000 [==============================] - 5s 657us/step - loss: 0.7624 - acc: 0.8591 - val_loss: 1.6761 - val_acc: 0.7702\n",
            "Epoch 15/100\n",
            "8000/8000 [==============================] - 5s 655us/step - loss: 0.7270 - acc: 0.8635 - val_loss: 1.6765 - val_acc: 0.7714\n",
            "Epoch 16/100\n",
            "8000/8000 [==============================] - 5s 661us/step - loss: 0.6927 - acc: 0.8691 - val_loss: 1.6671 - val_acc: 0.7732\n",
            "Epoch 17/100\n",
            "8000/8000 [==============================] - 5s 674us/step - loss: 0.6611 - acc: 0.8743 - val_loss: 1.6750 - val_acc: 0.7751\n",
            "Epoch 18/100\n",
            "8000/8000 [==============================] - 5s 656us/step - loss: 0.6331 - acc: 0.8784 - val_loss: 1.6991 - val_acc: 0.7745\n",
            "Epoch 19/100\n",
            "8000/8000 [==============================] - 5s 656us/step - loss: 0.6064 - acc: 0.8831 - val_loss: 1.6926 - val_acc: 0.7750\n",
            "Epoch 20/100\n",
            "8000/8000 [==============================] - 5s 658us/step - loss: 0.5821 - acc: 0.8876 - val_loss: 1.7182 - val_acc: 0.7761\n",
            "Epoch 21/100\n",
            "8000/8000 [==============================] - 5s 659us/step - loss: 0.5587 - acc: 0.8913 - val_loss: 1.7339 - val_acc: 0.7736\n",
            "Epoch 22/100\n",
            "8000/8000 [==============================] - 5s 660us/step - loss: 0.5351 - acc: 0.8950 - val_loss: 1.7267 - val_acc: 0.7760\n",
            "Epoch 23/100\n",
            "8000/8000 [==============================] - 5s 668us/step - loss: 0.5145 - acc: 0.8983 - val_loss: 1.7400 - val_acc: 0.7754\n",
            "Epoch 24/100\n",
            "8000/8000 [==============================] - 5s 669us/step - loss: 0.4937 - acc: 0.9014 - val_loss: 1.7607 - val_acc: 0.7739\n",
            "Epoch 25/100\n",
            "8000/8000 [==============================] - 5s 661us/step - loss: 0.4758 - acc: 0.9043 - val_loss: 1.7724 - val_acc: 0.7734\n",
            "Epoch 26/100\n",
            "8000/8000 [==============================] - 5s 658us/step - loss: 0.4586 - acc: 0.9065 - val_loss: 1.7894 - val_acc: 0.7737\n",
            "Epoch 27/100\n",
            "8000/8000 [==============================] - 5s 666us/step - loss: 0.4427 - acc: 0.9090 - val_loss: 1.7970 - val_acc: 0.7732\n",
            "Epoch 28/100\n",
            "8000/8000 [==============================] - 5s 678us/step - loss: 0.4270 - acc: 0.9115 - val_loss: 1.8084 - val_acc: 0.7735\n",
            "Epoch 29/100\n",
            "8000/8000 [==============================] - 5s 664us/step - loss: 0.4112 - acc: 0.9140 - val_loss: 1.8210 - val_acc: 0.7756\n",
            "Epoch 30/100\n",
            "8000/8000 [==============================] - 5s 665us/step - loss: 0.3981 - acc: 0.9158 - val_loss: 1.8343 - val_acc: 0.7747\n",
            "Epoch 31/100\n",
            "8000/8000 [==============================] - 5s 664us/step - loss: 0.3853 - acc: 0.9174 - val_loss: 1.8397 - val_acc: 0.7744\n",
            "Epoch 32/100\n",
            "8000/8000 [==============================] - 5s 674us/step - loss: 0.3731 - acc: 0.9196 - val_loss: 1.8396 - val_acc: 0.7739\n",
            "Epoch 33/100\n",
            "8000/8000 [==============================] - 5s 678us/step - loss: 0.3617 - acc: 0.9207 - val_loss: 1.8376 - val_acc: 0.7756\n",
            "Epoch 34/100\n",
            "8000/8000 [==============================] - 5s 658us/step - loss: 0.3508 - acc: 0.9221 - val_loss: 1.8557 - val_acc: 0.7750\n",
            "Epoch 35/100\n",
            "8000/8000 [==============================] - 5s 658us/step - loss: 0.3394 - acc: 0.9240 - val_loss: 1.8741 - val_acc: 0.7746\n",
            "Epoch 36/100\n",
            "8000/8000 [==============================] - 5s 665us/step - loss: 0.3307 - acc: 0.9259 - val_loss: 1.8761 - val_acc: 0.7728\n",
            "Epoch 37/100\n",
            "8000/8000 [==============================] - 5s 671us/step - loss: 0.3227 - acc: 0.9261 - val_loss: 1.8833 - val_acc: 0.7747\n",
            "Epoch 38/100\n",
            "8000/8000 [==============================] - 5s 681us/step - loss: 0.3146 - acc: 0.9271 - val_loss: 1.8931 - val_acc: 0.7743\n",
            "Epoch 39/100\n",
            "8000/8000 [==============================] - 5s 676us/step - loss: 0.3074 - acc: 0.9285 - val_loss: 1.8909 - val_acc: 0.7730\n",
            "Epoch 40/100\n",
            "8000/8000 [==============================] - 5s 666us/step - loss: 0.2998 - acc: 0.9297 - val_loss: 1.8986 - val_acc: 0.7726\n",
            "Epoch 41/100\n",
            "8000/8000 [==============================] - 5s 669us/step - loss: 0.2920 - acc: 0.9304 - val_loss: 1.9138 - val_acc: 0.7724\n",
            "Epoch 42/100\n",
            "8000/8000 [==============================] - 5s 668us/step - loss: 0.2844 - acc: 0.9317 - val_loss: 1.9000 - val_acc: 0.7738\n",
            "Epoch 43/100\n",
            "8000/8000 [==============================] - 5s 657us/step - loss: 0.2785 - acc: 0.9327 - val_loss: 1.9187 - val_acc: 0.7714\n",
            "Epoch 44/100\n",
            "8000/8000 [==============================] - 5s 657us/step - loss: 0.2727 - acc: 0.9343 - val_loss: 1.9232 - val_acc: 0.7706\n",
            "Epoch 45/100\n",
            "8000/8000 [==============================] - 5s 656us/step - loss: 0.2680 - acc: 0.9342 - val_loss: 1.9304 - val_acc: 0.7699\n",
            "Epoch 46/100\n",
            "8000/8000 [==============================] - 5s 672us/step - loss: 0.2623 - acc: 0.9357 - val_loss: 1.9239 - val_acc: 0.7714\n",
            "Epoch 47/100\n",
            "8000/8000 [==============================] - 5s 659us/step - loss: 0.2577 - acc: 0.9354 - val_loss: 1.9480 - val_acc: 0.7710\n",
            "Epoch 48/100\n",
            "8000/8000 [==============================] - 5s 666us/step - loss: 0.2525 - acc: 0.9366 - val_loss: 1.9329 - val_acc: 0.7705\n",
            "Epoch 49/100\n",
            "8000/8000 [==============================] - 5s 674us/step - loss: 0.2478 - acc: 0.9379 - val_loss: 1.9414 - val_acc: 0.7690\n",
            "Epoch 50/100\n",
            "8000/8000 [==============================] - 5s 675us/step - loss: 0.2446 - acc: 0.9381 - val_loss: 1.9454 - val_acc: 0.7707\n",
            "Epoch 51/100\n",
            "8000/8000 [==============================] - 5s 680us/step - loss: 0.2407 - acc: 0.9382 - val_loss: 1.9565 - val_acc: 0.7696\n",
            "Epoch 52/100\n",
            "8000/8000 [==============================] - 5s 664us/step - loss: 0.2370 - acc: 0.9394 - val_loss: 1.9532 - val_acc: 0.7699\n",
            "Epoch 53/100\n",
            "8000/8000 [==============================] - 5s 658us/step - loss: 0.2325 - acc: 0.9396 - val_loss: 1.9610 - val_acc: 0.7700\n",
            "Epoch 54/100\n",
            "8000/8000 [==============================] - 5s 657us/step - loss: 0.2274 - acc: 0.9407 - val_loss: 1.9718 - val_acc: 0.7690\n",
            "Epoch 55/100\n",
            "8000/8000 [==============================] - 5s 670us/step - loss: 0.2238 - acc: 0.9406 - val_loss: 1.9816 - val_acc: 0.7690\n",
            "Epoch 56/100\n",
            "8000/8000 [==============================] - 5s 660us/step - loss: 0.2200 - acc: 0.9404 - val_loss: 1.9849 - val_acc: 0.7687\n",
            "Epoch 57/100\n",
            "8000/8000 [==============================] - 5s 662us/step - loss: 0.2156 - acc: 0.9414 - val_loss: 1.9854 - val_acc: 0.7701\n",
            "Epoch 58/100\n",
            "8000/8000 [==============================] - 5s 654us/step - loss: 0.2119 - acc: 0.9419 - val_loss: 1.9976 - val_acc: 0.7682\n",
            "Epoch 59/100\n",
            "8000/8000 [==============================] - 5s 658us/step - loss: 0.2084 - acc: 0.9428 - val_loss: 1.9789 - val_acc: 0.7690\n",
            "Epoch 60/100\n",
            "8000/8000 [==============================] - 5s 677us/step - loss: 0.2054 - acc: 0.9427 - val_loss: 2.0004 - val_acc: 0.7692\n",
            "Epoch 61/100\n",
            "8000/8000 [==============================] - 5s 657us/step - loss: 0.2017 - acc: 0.9430 - val_loss: 2.0003 - val_acc: 0.7678\n",
            "Epoch 62/100\n",
            "8000/8000 [==============================] - 5s 656us/step - loss: 0.1988 - acc: 0.9434 - val_loss: 2.0098 - val_acc: 0.7689\n",
            "Epoch 63/100\n",
            "8000/8000 [==============================] - 5s 662us/step - loss: 0.1973 - acc: 0.9436 - val_loss: 2.0137 - val_acc: 0.7696\n",
            "Epoch 64/100\n",
            "8000/8000 [==============================] - 5s 665us/step - loss: 0.1944 - acc: 0.9444 - val_loss: 2.0139 - val_acc: 0.7684\n",
            "Epoch 65/100\n",
            "8000/8000 [==============================] - 5s 674us/step - loss: 0.1918 - acc: 0.9448 - val_loss: 2.0232 - val_acc: 0.7680\n",
            "Epoch 66/100\n",
            "8000/8000 [==============================] - 5s 663us/step - loss: 0.1905 - acc: 0.9443 - val_loss: 2.0154 - val_acc: 0.7687\n",
            "Epoch 67/100\n",
            "8000/8000 [==============================] - 5s 659us/step - loss: 0.1889 - acc: 0.9450 - val_loss: 2.0303 - val_acc: 0.7683\n",
            "Epoch 68/100\n",
            "8000/8000 [==============================] - 5s 671us/step - loss: 0.1869 - acc: 0.9450 - val_loss: 2.0247 - val_acc: 0.7675\n",
            "Epoch 69/100\n",
            "8000/8000 [==============================] - 5s 673us/step - loss: 0.1857 - acc: 0.9445 - val_loss: 2.0387 - val_acc: 0.7684\n",
            "Epoch 70/100\n",
            "8000/8000 [==============================] - 5s 662us/step - loss: 0.1847 - acc: 0.9460 - val_loss: 2.0368 - val_acc: 0.7685\n",
            "Epoch 71/100\n",
            "8000/8000 [==============================] - 5s 662us/step - loss: 0.1834 - acc: 0.9449 - val_loss: 2.0476 - val_acc: 0.7678\n",
            "Epoch 72/100\n",
            "8000/8000 [==============================] - 5s 662us/step - loss: 0.1821 - acc: 0.9457 - val_loss: 2.0397 - val_acc: 0.7675\n",
            "Epoch 73/100\n",
            "8000/8000 [==============================] - 5s 669us/step - loss: 0.1815 - acc: 0.9449 - val_loss: 2.0487 - val_acc: 0.7687\n",
            "Epoch 74/100\n",
            "8000/8000 [==============================] - 5s 683us/step - loss: 0.1803 - acc: 0.9451 - val_loss: 2.0521 - val_acc: 0.7683\n",
            "Epoch 75/100\n",
            "8000/8000 [==============================] - 5s 666us/step - loss: 0.1795 - acc: 0.9455 - val_loss: 2.0523 - val_acc: 0.7670\n",
            "Epoch 76/100\n",
            "8000/8000 [==============================] - 5s 663us/step - loss: 0.1783 - acc: 0.9458 - val_loss: 2.0569 - val_acc: 0.7684\n",
            "Epoch 77/100\n",
            "8000/8000 [==============================] - 5s 662us/step - loss: 0.1773 - acc: 0.9460 - val_loss: 2.0664 - val_acc: 0.7673\n",
            "Epoch 78/100\n",
            "8000/8000 [==============================] - 5s 681us/step - loss: 0.1766 - acc: 0.9458 - val_loss: 2.0649 - val_acc: 0.7667\n",
            "Epoch 79/100\n",
            "8000/8000 [==============================] - 5s 680us/step - loss: 0.1754 - acc: 0.9449 - val_loss: 2.0778 - val_acc: 0.7667\n",
            "Epoch 80/100\n",
            "8000/8000 [==============================] - 5s 668us/step - loss: 0.1745 - acc: 0.9456 - val_loss: 2.0818 - val_acc: 0.7660\n",
            "Epoch 81/100\n",
            "8000/8000 [==============================] - 5s 657us/step - loss: 0.1732 - acc: 0.9462 - val_loss: 2.0769 - val_acc: 0.7667\n",
            "Epoch 82/100\n",
            "8000/8000 [==============================] - 5s 658us/step - loss: 0.1723 - acc: 0.9461 - val_loss: 2.0841 - val_acc: 0.7658\n",
            "Epoch 83/100\n",
            "8000/8000 [==============================] - 5s 660us/step - loss: 0.1717 - acc: 0.9464 - val_loss: 2.0835 - val_acc: 0.7650\n",
            "Epoch 84/100\n",
            "8000/8000 [==============================] - 5s 656us/step - loss: 0.1708 - acc: 0.9464 - val_loss: 2.0767 - val_acc: 0.7662\n",
            "Epoch 85/100\n",
            "8000/8000 [==============================] - 5s 675us/step - loss: 0.1704 - acc: 0.9464 - val_loss: 2.0853 - val_acc: 0.7657\n",
            "Epoch 86/100\n",
            "8000/8000 [==============================] - 5s 658us/step - loss: 0.1697 - acc: 0.9462 - val_loss: 2.0918 - val_acc: 0.7662\n",
            "Epoch 87/100\n",
            "8000/8000 [==============================] - 5s 656us/step - loss: 0.1692 - acc: 0.9460 - val_loss: 2.0861 - val_acc: 0.7666\n",
            "Epoch 88/100\n",
            "8000/8000 [==============================] - 5s 657us/step - loss: 0.1685 - acc: 0.9463 - val_loss: 2.0909 - val_acc: 0.7665\n",
            "Epoch 89/100\n",
            "8000/8000 [==============================] - 5s 668us/step - loss: 0.1677 - acc: 0.9461 - val_loss: 2.0836 - val_acc: 0.7660\n",
            "Epoch 90/100\n",
            "8000/8000 [==============================] - 5s 652us/step - loss: 0.1667 - acc: 0.9466 - val_loss: 2.0931 - val_acc: 0.7658\n",
            "Epoch 91/100\n",
            "8000/8000 [==============================] - 5s 656us/step - loss: 0.1666 - acc: 0.9464 - val_loss: 2.0912 - val_acc: 0.7654\n",
            "Epoch 92/100\n",
            "8000/8000 [==============================] - 5s 653us/step - loss: 0.1656 - acc: 0.9468 - val_loss: 2.0918 - val_acc: 0.7652\n",
            "Epoch 93/100\n",
            "8000/8000 [==============================] - 5s 654us/step - loss: 0.1655 - acc: 0.9466 - val_loss: 2.0985 - val_acc: 0.7642\n",
            "Epoch 94/100\n",
            "8000/8000 [==============================] - 5s 658us/step - loss: 0.1649 - acc: 0.9462 - val_loss: 2.0982 - val_acc: 0.7643\n",
            "Epoch 95/100\n",
            "8000/8000 [==============================] - 5s 668us/step - loss: 0.1637 - acc: 0.9466 - val_loss: 2.0888 - val_acc: 0.7665\n",
            "Epoch 96/100\n",
            "8000/8000 [==============================] - 5s 664us/step - loss: 0.1634 - acc: 0.9462 - val_loss: 2.1003 - val_acc: 0.7648\n",
            "Epoch 97/100\n",
            "8000/8000 [==============================] - 5s 658us/step - loss: 0.1632 - acc: 0.9465 - val_loss: 2.1121 - val_acc: 0.7642\n",
            "Epoch 98/100\n",
            "8000/8000 [==============================] - 5s 658us/step - loss: 0.1629 - acc: 0.9467 - val_loss: 2.1032 - val_acc: 0.7660\n",
            "Epoch 99/100\n",
            "8000/8000 [==============================] - 5s 661us/step - loss: 0.1623 - acc: 0.9465 - val_loss: 2.1041 - val_acc: 0.7645\n",
            "Epoch 100/100\n",
            "8000/8000 [==============================] - 5s 662us/step - loss: 0.1618 - acc: 0.9464 - val_loss: 2.1064 - val_acc: 0.7651\n"
          ],
          "name": "stdout"
        }
      ]
    },
    {
      "cell_type": "code",
      "metadata": {
        "id": "_oHmWf2WvM9c",
        "colab_type": "code",
        "colab": {
          "base_uri": "https://localhost:8080/",
          "height": 269
        },
        "outputId": "46451f16-3c6f-4abc-e21e-817c0ebf7194"
      },
      "source": [
        "# plot some data\n",
        "plt.plot(r.history['loss'], label='loss')\n",
        "plt.plot(r.history['val_loss'], label='val_loss')\n",
        "plt.legend()\n",
        "plt.show()"
      ],
      "execution_count": 20,
      "outputs": [
        {
          "output_type": "display_data",
          "data": {
            "image/png": "[encoded data removed]",
            "text/plain": [
              "<Figure size 432x288 with 1 Axes>"
            ]
          },
          "metadata": {
            "tags": []
          }
        }
      ]
    },
    {
      "cell_type": "code",
      "metadata": {
        "id": "MMOnw0J2vPOz",
        "colab_type": "code",
        "colab": {
          "base_uri": "https://localhost:8080/",
          "height": 265
        },
        "outputId": "55a760e8-0d01-4a25-c75a-1eed5dec5a4e"
      },
      "source": [
        "# accuracies\n",
        "plt.plot(r.history['acc'], label='acc')\n",
        "plt.plot(r.history['val_acc'], label='val_acc')\n",
        "plt.legend()\n",
        "plt.show()"
      ],
      "execution_count": 21,
      "outputs": [
        {
          "output_type": "display_data",
          "data": {
            "image/png": "[encoded data removed]",
            "text/plain": [
              "<Figure size 432x288 with 1 Axes>"
            ]
          },
          "metadata": {
            "tags": []
          }
        }
      ]
    },
    {
      "cell_type": "code",
      "metadata": {
        "id": "w-BhYlB-vS9H",
        "colab_type": "code",
        "colab": {}
      },
      "source": [
        "# The encoder will be stand-alone\n",
        "# From this we will get our initial decoder hidden state\n",
        "encoder_model = Model(encoder_inputs_placeholder, encoder_states)\n",
        "\n",
        "decoder_state_input_h = Input(shape=(LATENT_DIM,))\n",
        "decoder_state_input_c = Input(shape=(LATENT_DIM,))\n",
        "decoder_states_inputs = [decoder_state_input_h, decoder_state_input_c]\n",
        "# decoder_states_inputs = [decoder_state_input_h] # gru\n",
        "\n",
        "decoder_inputs_single = Input(shape=(1,))\n",
        "decoder_inputs_single_x = decoder_embedding(decoder_inputs_single)"
      ],
      "execution_count": 0,
      "outputs": []
    },
    {
      "cell_type": "code",
      "metadata": {
        "id": "hldzfq2JveDF",
        "colab_type": "code",
        "colab": {}
      },
      "source": [
        "# this time, we want to keep the states too, to be output\n",
        "# by our sampling model\n",
        "decoder_outputs, h, c = decoder_lstm(\n",
        "  decoder_inputs_single_x,\n",
        "  initial_state=decoder_states_inputs\n",
        ")\n",
        "# decoder_outputs, state_h = decoder_lstm(\n",
        "#   decoder_inputs_single_x,\n",
        "#   initial_state=decoder_states_inputs\n",
        "# ) #gru\n",
        "decoder_states = [h, c]\n",
        "# decoder_states = [h] # gru\n",
        "decoder_outputs = decoder_dense(decoder_outputs)"
      ],
      "execution_count": 0,
      "outputs": []
    },
    {
      "cell_type": "code",
      "metadata": {
        "id": "Je5N_FyWviXS",
        "colab_type": "code",
        "colab": {}
      },
      "source": [
        "# The sampling model\n",
        "# inputs: y(t-1), h(t-1), c(t-1)\n",
        "# outputs: y(t), h(t), c(t)\n",
        "decoder_model = Model(\n",
        "  [decoder_inputs_single] + decoder_states_inputs, \n",
        "  [decoder_outputs] + decoder_states\n",
        ")\n",
        "\n",
        "# map indexes back into real words\n",
        "# so we can view the results\n",
        "idx2word_eng = {v:k for k, v in word2idx_inputs.items()}\n",
        "idx2word_trans = {v:k for k, v in word2idx_outputs.items()}\n"
      ],
      "execution_count": 0,
      "outputs": []
    },
    {
      "cell_type": "code",
      "metadata": {
        "id": "1NkI6PQovltv",
        "colab_type": "code",
        "colab": {}
      },
      "source": [
        "def decode_sequence(input_seq):\n",
        "  # Encode the input as state vectors.\n",
        "  states_value = encoder_model.predict(input_seq)\n",
        "\n",
        "  # Generate empty target sequence of length 1.\n",
        "  target_seq = np.zeros((1, 1))\n",
        "\n",
        "  # Populate the first character of target sequence with the start character.\n",
        "  # NOTE: tokenizer lower-cases all words\n",
        "  target_seq[0, 0] = word2idx_outputs['<sos>']\n",
        "\n",
        "  # if we get this we break\n",
        "  eos = word2idx_outputs['<eos>']\n",
        "\n",
        "  # Create the translation\n",
        "  output_sentence = []\n",
        "  for _ in range(max_len_target):\n",
        "    output_tokens, h, c = decoder_model.predict(\n",
        "      [target_seq] + states_value\n",
        "    )\n",
        "    # output_tokens, h = decoder_model.predict(\n",
        "    #     [target_seq] + states_value\n",
        "    # ) # gru\n",
        "\n",
        "    # Get next word\n",
        "    idx = np.argmax(output_tokens[0, 0, :])\n",
        "\n",
        "    # End sentence of EOS\n",
        "    if eos == idx:\n",
        "      break\n",
        "\n",
        "    word = ''\n",
        "    if idx > 0:\n",
        "      word = idx2word_trans[idx]\n",
        "      output_sentence.append(word)\n",
        "\n",
        "    # Update the decoder input\n",
        "    # which is just the word just generated\n",
        "    target_seq[0, 0] = idx\n",
        "\n",
        "    # Update states\n",
        "    states_value = [h, c]\n",
        "    # states_value = [h] # gru\n",
        "\n",
        "  return ' '.join(output_sentence)\n"
      ],
      "execution_count": 0,
      "outputs": []
    },
    {
      "cell_type": "code",
      "metadata": {
        "id": "f3GzNyfsv9l_",
        "colab_type": "code",
        "colab": {
          "base_uri": "https://localhost:8080/",
          "height": 425
        },
        "outputId": "b8accf70-293c-49c0-b69f-9d85a63cf93e"
      },
      "source": [
        "while True:\n",
        "  # Do some test translations\n",
        "  i = np.random.choice(len(input_texts))\n",
        "  input_seq = encoder_inputs[i:i+1]\n",
        "  translation = decode_sequence(input_seq)\n",
        "  print('-')\n",
        "  print('Input:', input_texts[i])\n",
        "  print('Translation:', translation)\n",
        "\n",
        "  ans = input(\"Continue? [Y/n]\")\n",
        "  if ans and ans.lower().startswith('n'):\n",
        "    break\n"
      ],
      "execution_count": 26,
      "outputs": [
        {
          "output_type": "stream",
          "text": [
            "-\n",
            "Input: Eat and drink.\n",
            "Translation: mange et bois.\n",
            "Continue? [Y/n]Y\n",
            "-\n",
            "Input: Is it any good?\n",
            "Translation: est-ce mon sentie ?\n",
            "Continue? [Y/n]Y\n",
            "-\n",
            "Input: Are you dressed?\n",
            "Translation: êtes-vous es-tu laissez-moi\n",
            "Continue? [Y/n]Y\n",
            "-\n",
            "Input: Feel this.\n",
            "Translation: sens ça !\n",
            "Continue? [Y/n]Y\n",
            "-\n",
            "Input: Get in the van.\n",
            "Translation: grimpe dans la camionnette !\n",
            "Continue? [Y/n]Y\n",
            "-\n",
            "Input: Any questions?\n",
            "Translation: de quelconques questions ?\n",
            "Continue? [Y/n]n\n"
          ],
          "name": "stdout"
        }
      ]
    }
  ]
}