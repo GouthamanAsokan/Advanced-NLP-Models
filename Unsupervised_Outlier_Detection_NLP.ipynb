{
  "nbformat": 4,
  "nbformat_minor": 0,
  "metadata": {
    "colab": {
      "name": "Unsupervised_Outlier_Detection_NLP.ipynb",
      "provenance": [],
      "collapsed_sections": []
    },
    "kernelspec": {
      "name": "python3",
      "display_name": "Python 3"
    },
    "accelerator": "GPU"
  },
  "cells": [
    {
      "cell_type": "code",
      "metadata": {
        "id": "nH9gzbT0tgMM",
        "colab_type": "code",
        "colab": {
          "base_uri": "https://localhost:8080/",
          "height": 204
        },
        "outputId": "4e1ca14d-9d85-481c-95ce-e735428e6269"
      },
      "source": [
        "!pip install kaggle"
      ],
      "execution_count": 1,
      "outputs": [
        {
          "output_type": "stream",
          "text": [
            "Requirement already satisfied: kaggle in /usr/local/lib/python3.6/dist-packages (1.5.6)\n",
            "Requirement already satisfied: six>=1.10 in /usr/local/lib/python3.6/dist-packages (from kaggle) (1.12.0)\n",
            "Requirement already satisfied: tqdm in /usr/local/lib/python3.6/dist-packages (from kaggle) (4.38.0)\n",
            "Requirement already satisfied: requests in /usr/local/lib/python3.6/dist-packages (from kaggle) (2.21.0)\n",
            "Requirement already satisfied: python-dateutil in /usr/local/lib/python3.6/dist-packages (from kaggle) (2.8.1)\n",
            "Requirement already satisfied: python-slugify in /usr/local/lib/python3.6/dist-packages (from kaggle) (4.0.0)\n",
            "Requirement already satisfied: urllib3<1.25,>=1.21.1 in /usr/local/lib/python3.6/dist-packages (from kaggle) (1.24.3)\n",
            "Requirement already satisfied: certifi in /usr/local/lib/python3.6/dist-packages (from kaggle) (2020.4.5.1)\n",
            "Requirement already satisfied: chardet<3.1.0,>=3.0.2 in /usr/local/lib/python3.6/dist-packages (from requests->kaggle) (3.0.4)\n",
            "Requirement already satisfied: idna<2.9,>=2.5 in /usr/local/lib/python3.6/dist-packages (from requests->kaggle) (2.8)\n",
            "Requirement already satisfied: text-unidecode>=1.3 in /usr/local/lib/python3.6/dist-packages (from python-slugify->kaggle) (1.3)\n"
          ],
          "name": "stdout"
        }
      ]
    },
    {
      "cell_type": "code",
      "metadata": {
        "id": "LMuBRi-Mt8-a",
        "colab_type": "code",
        "colab": {}
      },
      "source": [
        "mkdir .kaggle"
      ],
      "execution_count": 0,
      "outputs": []
    },
    {
      "cell_type": "code",
      "metadata": {
        "id": "Ud-Oyt-SuTyb",
        "colab_type": "code",
        "colab": {}
      },
      "source": [
        "import json\n",
        "token = {'username':'gouthamanasokan','key':'c028fa6982d0516ec12318c813a8ce1e'}\n",
        "with open('/content/.kaggle/kaggle.json', 'w') as file:\n",
        "    json.dump(token, file)"
      ],
      "execution_count": 0,
      "outputs": []
    },
    {
      "cell_type": "code",
      "metadata": {
        "id": "9kGCl1o2uW08",
        "colab_type": "code",
        "colab": {
          "base_uri": "https://localhost:8080/",
          "height": 51
        },
        "outputId": "b43cd9ef-ff2f-4e56-99dc-ef5ea7b863c2"
      },
      "source": [
        "!cp /content/.kaggle/kaggle.json ~/.kaggle/kaggle.json\n",
        "!kaggle config set -n path -v{/content}"
      ],
      "execution_count": 5,
      "outputs": [
        {
          "output_type": "stream",
          "text": [
            "Warning: Your Kaggle API key is readable by other users on this system! To fix this, you can run 'chmod 600 /root/.kaggle/kaggle.json'\n",
            "- path is now set to: {/content}\n"
          ],
          "name": "stdout"
        }
      ]
    },
    {
      "cell_type": "code",
      "metadata": {
        "id": "M6Ask9eQucnh",
        "colab_type": "code",
        "colab": {}
      },
      "source": [
        "!chmod 600 /root/.kaggle/kaggle.json"
      ],
      "execution_count": 0,
      "outputs": []
    },
    {
      "cell_type": "code",
      "metadata": {
        "id": "2hk-NgAGuhng",
        "colab_type": "code",
        "colab": {
          "base_uri": "https://localhost:8080/",
          "height": 408
        },
        "outputId": "e89b5b0b-e7c5-4da0-9d8a-aa0c5c2760b2"
      },
      "source": [
        "!kaggle datasets list -s wikipedia"
      ],
      "execution_count": 8,
      "outputs": [
        {
          "output_type": "stream",
          "text": [
            "Warning: Looks like you're using an outdated API Version, please consider updating (server 1.5.6 / client 1.5.4)\n",
            "ref                                                   title                                           size  lastUpdated          downloadCount  \n",
            "----------------------------------------------------  ---------------------------------------------  -----  -------------------  -------------  \n",
            "jrobischon/wikipedia-movie-plots                      Wikipedia Movie Plots                           30MB  2018-10-15 19:59:54           7223  \n",
            "mikeortman/wikipedia-sentences                        Wikipedia Sentences                            314MB  2018-08-25 04:14:53            608  \n",
            "pavlofesenko/titanic-extended                         Titanic extended dataset (Kaggle + Wikipedia)  134KB  2019-03-06 09:53:24           2062  \n",
            "jkkphys/english-wikipedia-articles-20170820-sqlite    English Wikipedia Articles 2017-08-20 SQLite     7GB  2018-11-27 21:54:22           1011  \n",
            "residentmario/wikipedia-article-titles                Wikipedia Article Titles                        73MB  2017-09-22 16:42:20            631  \n",
            "joephilleo/mathematicians-on-wikipedia                Mathematicians of Wikipedia                      2MB  2017-09-16 22:50:02            484  \n",
            "hugodarwood/celebrity-deaths                          Celebrity Deaths                               702KB  2017-01-14 08:48:12           3294  \n",
            "rtatman/glove-global-vectors-for-word-representation  GloVe: Global Vectors for Word Representation  458MB  2017-08-05 00:01:49           5995  \n",
            "mozzie/apache-spark-word2vec-model                    Wikipedia Word2Vec                             236MB  2018-09-14 08:04:20             81  \n",
            "jkkphys/english-wikipedia-articles-20170820-models    English Wikipedia Articles 2017-08-20 Models   925MB  2018-11-28 17:09:32            253  \n",
            "urbanbricks/wikipedia-promotional-articles            Wikipedia Promotional Articles                 201MB  2019-10-27 16:31:06            108  \n",
            "kenshoresearch/kensho-derived-wikimedia-data          Kensho Derived Wikimedia Dataset                 8GB  2020-01-24 20:30:52            375  \n",
            "shradhapj/wikipedia-edits                             Wikipedia Edits                                 27KB  2017-08-20 19:04:57            160  \n",
            "mksaad/arb-egy-cmp-corpus                             Arabic - Egyptian comparable Wikipedia corpus   38MB  2017-09-29 08:05:51            339  \n",
            "mit/pantheon-project                                  Pantheon Project: Historical Popularity Index  511KB  2017-03-01 21:00:18           1133  \n",
            "jacksoncrow/extended-wikipedia-multimodal-dataset     Extended Wikipedia Multimodal Dataset          933MB  2020-04-04 09:08:17             15  \n",
            "abyaadrafid/bnwiki                                    Bangla Wikipedia Articles                      128MB  2019-06-11 18:06:12             33  \n",
            "sameersmahajan/people-wikipedia-data                  People Wikipedia Data                           29MB  2017-11-20 11:51:49            831  \n",
            "tunguz/big-five-personality-test                      Big Five Personality Test                      159MB  2020-02-17 15:59:37           4603  \n",
            "danofer/dbpedia-classes                               DBPedia Classes                                166MB  2019-07-04 11:30:52            367  \n"
          ],
          "name": "stdout"
        }
      ]
    },
    {
      "cell_type": "code",
      "metadata": {
        "id": "6HFc6Vveu2Ri",
        "colab_type": "code",
        "colab": {
          "base_uri": "https://localhost:8080/",
          "height": 68
        },
        "outputId": "a017e81c-d3fb-45e4-c232-e1dbb130dd68"
      },
      "source": [
        "!kaggle datasets download -d jrobischon/wikipedia-movie-plots -p /content"
      ],
      "execution_count": 9,
      "outputs": [
        {
          "output_type": "stream",
          "text": [
            "Downloading wikipedia-movie-plots.zip to /content\n",
            " 57% 17.0M/29.9M [00:00<00:00, 45.3MB/s]\n",
            "100% 29.9M/29.9M [00:00<00:00, 73.5MB/s]\n"
          ],
          "name": "stdout"
        }
      ]
    },
    {
      "cell_type": "code",
      "metadata": {
        "id": "57bI6K_FxxKO",
        "colab_type": "code",
        "colab": {
          "base_uri": "https://localhost:8080/",
          "height": 51
        },
        "outputId": "37bd2bb0-a280-4184-caa0-9dd26f9461d2"
      },
      "source": [
        "!unzip wikipedia-movie-plots.zip -d wikipedia-movie-plots"
      ],
      "execution_count": 10,
      "outputs": [
        {
          "output_type": "stream",
          "text": [
            "Archive:  wikipedia-movie-plots.zip\n",
            "  inflating: wikipedia-movie-plots/wiki_movie_plots_deduped.csv  \n"
          ],
          "name": "stdout"
        }
      ]
    },
    {
      "cell_type": "code",
      "metadata": {
        "id": "GInz8YCCyAAj",
        "colab_type": "code",
        "colab": {
          "base_uri": "https://localhost:8080/",
          "height": 306
        },
        "outputId": "f32b269a-8b96-4406-ea95-4584663eeb65"
      },
      "source": [
        "#Importing the file\n",
        "import pandas as pd\n",
        "wikipedia_movie_df = pd.read_csv('/content/wikipedia-movie-plots/wiki_movie_plots_deduped.csv', \n",
        "index_col=False, header=0)\n",
        "wikipedia_movie_df.head()"
      ],
      "execution_count": 11,
      "outputs": [
        {
          "output_type": "execute_result",
          "data": {
            "text/html": [
              "<div>\n",
              "<style scoped>\n",
              "    .dataframe tbody tr th:only-of-type {\n",
              "        vertical-align: middle;\n",
              "    }\n",
              "\n",
              "    .dataframe tbody tr th {\n",
              "        vertical-align: top;\n",
              "    }\n",
              "\n",
              "    .dataframe thead th {\n",
              "        text-align: right;\n",
              "    }\n",
              "</style>\n",
              "<table border=\"1\" class=\"dataframe\">\n",
              "  <thead>\n",
              "    <tr style=\"text-align: right;\">\n",
              "      <th></th>\n",
              "      <th>Release Year</th>\n",
              "      <th>Title</th>\n",
              "      <th>Origin/Ethnicity</th>\n",
              "      <th>Director</th>\n",
              "      <th>Cast</th>\n",
              "      <th>Genre</th>\n",
              "      <th>Wiki Page</th>\n",
              "      <th>Plot</th>\n",
              "    </tr>\n",
              "  </thead>\n",
              "  <tbody>\n",
              "    <tr>\n",
              "      <th>0</th>\n",
              "      <td>1901</td>\n",
              "      <td>Kansas Saloon Smashers</td>\n",
              "      <td>American</td>\n",
              "      <td>Unknown</td>\n",
              "      <td>NaN</td>\n",
              "      <td>unknown</td>\n",
              "      <td>https://en.wikipedia.org/wiki/Kansas_Saloon_Sm...</td>\n",
              "      <td>A bartender is working at a saloon, serving dr...</td>\n",
              "    </tr>\n",
              "    <tr>\n",
              "      <th>1</th>\n",
              "      <td>1901</td>\n",
              "      <td>Love by the Light of the Moon</td>\n",
              "      <td>American</td>\n",
              "      <td>Unknown</td>\n",
              "      <td>NaN</td>\n",
              "      <td>unknown</td>\n",
              "      <td>https://en.wikipedia.org/wiki/Love_by_the_Ligh...</td>\n",
              "      <td>The moon, painted with a smiling face hangs ov...</td>\n",
              "    </tr>\n",
              "    <tr>\n",
              "      <th>2</th>\n",
              "      <td>1901</td>\n",
              "      <td>The Martyred Presidents</td>\n",
              "      <td>American</td>\n",
              "      <td>Unknown</td>\n",
              "      <td>NaN</td>\n",
              "      <td>unknown</td>\n",
              "      <td>https://en.wikipedia.org/wiki/The_Martyred_Pre...</td>\n",
              "      <td>The film, just over a minute long, is composed...</td>\n",
              "    </tr>\n",
              "    <tr>\n",
              "      <th>3</th>\n",
              "      <td>1901</td>\n",
              "      <td>Terrible Teddy, the Grizzly King</td>\n",
              "      <td>American</td>\n",
              "      <td>Unknown</td>\n",
              "      <td>NaN</td>\n",
              "      <td>unknown</td>\n",
              "      <td>https://en.wikipedia.org/wiki/Terrible_Teddy,_...</td>\n",
              "      <td>Lasting just 61 seconds and consisting of two ...</td>\n",
              "    </tr>\n",
              "    <tr>\n",
              "      <th>4</th>\n",
              "      <td>1902</td>\n",
              "      <td>Jack and the Beanstalk</td>\n",
              "      <td>American</td>\n",
              "      <td>George S. Fleming, Edwin S. Porter</td>\n",
              "      <td>NaN</td>\n",
              "      <td>unknown</td>\n",
              "      <td>https://en.wikipedia.org/wiki/Jack_and_the_Bea...</td>\n",
              "      <td>The earliest known adaptation of the classic f...</td>\n",
              "    </tr>\n",
              "  </tbody>\n",
              "</table>\n",
              "</div>"
            ],
            "text/plain": [
              "   Release Year  ...                                               Plot\n",
              "0          1901  ...  A bartender is working at a saloon, serving dr...\n",
              "1          1901  ...  The moon, painted with a smiling face hangs ov...\n",
              "2          1901  ...  The film, just over a minute long, is composed...\n",
              "3          1901  ...  Lasting just 61 seconds and consisting of two ...\n",
              "4          1902  ...  The earliest known adaptation of the classic f...\n",
              "\n",
              "[5 rows x 8 columns]"
            ]
          },
          "metadata": {
            "tags": []
          },
          "execution_count": 11
        }
      ]
    },
    {
      "cell_type": "code",
      "metadata": {
        "id": "Fivnspe-yMhN",
        "colab_type": "code",
        "colab": {
          "base_uri": "https://localhost:8080/",
          "height": 204
        },
        "outputId": "46d0770b-8663-4506-d185-5e7cc45b07c5"
      },
      "source": [
        "title_plot_df = wikipedia_movie_df[['Title','Plot']]\n",
        "title_plot_df.head()"
      ],
      "execution_count": 12,
      "outputs": [
        {
          "output_type": "execute_result",
          "data": {
            "text/html": [
              "<div>\n",
              "<style scoped>\n",
              "    .dataframe tbody tr th:only-of-type {\n",
              "        vertical-align: middle;\n",
              "    }\n",
              "\n",
              "    .dataframe tbody tr th {\n",
              "        vertical-align: top;\n",
              "    }\n",
              "\n",
              "    .dataframe thead th {\n",
              "        text-align: right;\n",
              "    }\n",
              "</style>\n",
              "<table border=\"1\" class=\"dataframe\">\n",
              "  <thead>\n",
              "    <tr style=\"text-align: right;\">\n",
              "      <th></th>\n",
              "      <th>Title</th>\n",
              "      <th>Plot</th>\n",
              "    </tr>\n",
              "  </thead>\n",
              "  <tbody>\n",
              "    <tr>\n",
              "      <th>0</th>\n",
              "      <td>Kansas Saloon Smashers</td>\n",
              "      <td>A bartender is working at a saloon, serving dr...</td>\n",
              "    </tr>\n",
              "    <tr>\n",
              "      <th>1</th>\n",
              "      <td>Love by the Light of the Moon</td>\n",
              "      <td>The moon, painted with a smiling face hangs ov...</td>\n",
              "    </tr>\n",
              "    <tr>\n",
              "      <th>2</th>\n",
              "      <td>The Martyred Presidents</td>\n",
              "      <td>The film, just over a minute long, is composed...</td>\n",
              "    </tr>\n",
              "    <tr>\n",
              "      <th>3</th>\n",
              "      <td>Terrible Teddy, the Grizzly King</td>\n",
              "      <td>Lasting just 61 seconds and consisting of two ...</td>\n",
              "    </tr>\n",
              "    <tr>\n",
              "      <th>4</th>\n",
              "      <td>Jack and the Beanstalk</td>\n",
              "      <td>The earliest known adaptation of the classic f...</td>\n",
              "    </tr>\n",
              "  </tbody>\n",
              "</table>\n",
              "</div>"
            ],
            "text/plain": [
              "                              Title                                               Plot\n",
              "0            Kansas Saloon Smashers  A bartender is working at a saloon, serving dr...\n",
              "1     Love by the Light of the Moon  The moon, painted with a smiling face hangs ov...\n",
              "2           The Martyred Presidents  The film, just over a minute long, is composed...\n",
              "3  Terrible Teddy, the Grizzly King  Lasting just 61 seconds and consisting of two ...\n",
              "4            Jack and the Beanstalk  The earliest known adaptation of the classic f..."
            ]
          },
          "metadata": {
            "tags": []
          },
          "execution_count": 12
        }
      ]
    },
    {
      "cell_type": "code",
      "metadata": {
        "id": "EIQAPsSZyRqr",
        "colab_type": "code",
        "colab": {
          "base_uri": "https://localhost:8080/",
          "height": 54
        },
        "outputId": "7d6ffc1e-1465-4d9b-a4a8-0e78971a2a06"
      },
      "source": [
        "title_plot_df.iloc[0,1]"
      ],
      "execution_count": 13,
      "outputs": [
        {
          "output_type": "execute_result",
          "data": {
            "text/plain": [
              "\"A bartender is working at a saloon, serving drinks to customers. After he fills a stereotypically Irish man's bucket with beer, Carrie Nation and her followers burst inside. They assault the Irish man, pulling his hat over his eyes and then dumping the beer over his head. The group then begin wrecking the bar, smashing the fixtures, mirrors, and breaking the cash register. The bartender then sprays seltzer water in Nation's face before a group of policemen appear and order everybody to leave.[1]\""
            ]
          },
          "metadata": {
            "tags": []
          },
          "execution_count": 13
        }
      ]
    },
    {
      "cell_type": "code",
      "metadata": {
        "id": "MwPOGudYyZIl",
        "colab_type": "code",
        "colab": {}
      },
      "source": [
        "from gensim import utils\n",
        "import gensim.parsing.preprocessing as gsp\n",
        "\n",
        "filters = [\n",
        "           gsp.strip_tags, \n",
        "           gsp.strip_punctuation,\n",
        "           gsp.strip_multiple_whitespaces,\n",
        "           gsp.strip_numeric,\n",
        "           gsp.remove_stopwords, \n",
        "           gsp.strip_short, \n",
        "           gsp.stem_text\n",
        "          ]\n",
        "\n",
        "def clean_text(s):\n",
        "    s = s.lower()\n",
        "    s = utils.to_unicode(s)\n",
        "    for f in filters:\n",
        "        s = f(s)\n",
        "    return s"
      ],
      "execution_count": 0,
      "outputs": []
    },
    {
      "cell_type": "code",
      "metadata": {
        "id": "JicjsY18yhVx",
        "colab_type": "code",
        "colab": {
          "base_uri": "https://localhost:8080/",
          "height": 54
        },
        "outputId": "dc5ec474-8c56-4d2e-84ec-db6b708e15fa"
      },
      "source": [
        "clean_text(title_plot_df.iloc[0,1])"
      ],
      "execution_count": 15,
      "outputs": [
        {
          "output_type": "execute_result",
          "data": {
            "text/plain": [
              "'bartend work saloon serv drink custom fill stereotyp irish man bucket beer carri nation follow burst insid assault irish man pull hat ey dump beer head group begin wreck bar smash fixtur mirror break cash regist bartend sprai seltzer water nation face group policemen appear order everybodi leav'"
            ]
          },
          "metadata": {
            "tags": []
          },
          "execution_count": 15
        }
      ]
    },
    {
      "cell_type": "code",
      "metadata": {
        "id": "AZPSIEC5ylMf",
        "colab_type": "code",
        "colab": {
          "base_uri": "https://localhost:8080/",
          "height": 119
        },
        "outputId": "1f559260-9e92-442b-a77e-e98432162312"
      },
      "source": [
        "title_plot_df['Plot'] = title_plot_df['Plot'].map(lambda x: clean_text(x))"
      ],
      "execution_count": 16,
      "outputs": [
        {
          "output_type": "stream",
          "text": [
            "/usr/local/lib/python3.6/dist-packages/ipykernel_launcher.py:1: SettingWithCopyWarning: \n",
            "A value is trying to be set on a copy of a slice from a DataFrame.\n",
            "Try using .loc[row_indexer,col_indexer] = value instead\n",
            "\n",
            "See the caveats in the documentation: https://pandas.pydata.org/pandas-docs/stable/user_guide/indexing.html#returning-a-view-versus-a-copy\n",
            "  \"\"\"Entry point for launching an IPython kernel.\n"
          ],
          "name": "stderr"
        }
      ]
    },
    {
      "cell_type": "code",
      "metadata": {
        "id": "8ibXlh9Dy8L1",
        "colab_type": "code",
        "colab": {}
      },
      "source": [
        "from collections import Counter\n",
        "\n",
        "aggregate_counter = Counter()\n",
        "for row_index,row in title_plot_df.iterrows():\n",
        "    c = Counter(row['Plot'].split())\n",
        "    aggregate_counter += c\n",
        "\n",
        "common_words = [word[0] for word in aggregate_counter.most_common(50)]\n",
        "common_words_counts = [word[1] for word in aggregate_counter.most_common(50)]"
      ],
      "execution_count": 0,
      "outputs": []
    },
    {
      "cell_type": "code",
      "metadata": {
        "id": "p_nFyuQizkox",
        "colab_type": "code",
        "colab": {
          "base_uri": "https://localhost:8080/",
          "height": 71
        },
        "outputId": "ece5b87c-14e3-4b91-9d2b-79cbccddfb6b"
      },
      "source": [
        "import matplotlib.pyplot as plt\n",
        "import seaborn as sns\n",
        "\n",
        "def barplot(words, words_counts, title):\n",
        "    fig = plt.figure(figsize=(18,6))\n",
        "    bar_plot = sns.barplot(x=words, y=words_counts)\n",
        "    for item in bar_plot.get_xticklabels():\n",
        "        item.set_rotation(90)\n",
        "    plt.title(title)\n",
        "    plt.show()"
      ],
      "execution_count": 18,
      "outputs": [
        {
          "output_type": "stream",
          "text": [
            "/usr/local/lib/python3.6/dist-packages/statsmodels/tools/_testing.py:19: FutureWarning: pandas.util.testing is deprecated. Use the functions in the public API at pandas.testing instead.\n",
            "  import pandas.util.testing as tm\n"
          ],
          "name": "stderr"
        }
      ]
    },
    {
      "cell_type": "code",
      "metadata": {
        "id": "mpm3LITwzoY7",
        "colab_type": "code",
        "colab": {
          "base_uri": "https://localhost:8080/",
          "height": 426
        },
        "outputId": "743d1002-ab7d-403e-9c5b-8971a698efe3"
      },
      "source": [
        "barplot(words=common_words, words_counts=common_words_counts, title='Most Frequent Words used in movie plots')"
      ],
      "execution_count": 19,
      "outputs": [
        {
          "output_type": "display_data",
          "data": {
            "image/png": "[encoded data removed]",
            "text/plain": [
              "<Figure size 1296x432 with 1 Axes>"
            ]
          },
          "metadata": {
            "tags": [],
            "needs_background": "light"
          }
        }
      ]
    },
    {
      "cell_type": "code",
      "metadata": {
        "id": "656SmeguzxtF",
        "colab_type": "code",
        "colab": {}
      },
      "source": [
        "from itertools import islice\n",
        "\n",
        "def key_word_counter(tupple):\n",
        "    return tupple[1]\n",
        "\n",
        "all_word_counts = sorted(aggregate_counter.items(), key=key_word_counter)\n",
        "uncommon_words = [word[0] for word in islice(all_word_counts, 50)]\n",
        "uncommon_word_counts = [word[1] for word in islice(all_word_counts, 50)] "
      ],
      "execution_count": 0,
      "outputs": []
    },
    {
      "cell_type": "code",
      "metadata": {
        "id": "ymEjnPycz39W",
        "colab_type": "code",
        "colab": {
          "base_uri": "https://localhost:8080/",
          "height": 487
        },
        "outputId": "7b801731-d43b-4f78-e6e5-2b17ee398e55"
      },
      "source": [
        "barplot(words=uncommon_words, words_counts=uncommon_word_counts, title='Least Frequent Words used in movie plots')"
      ],
      "execution_count": 21,
      "outputs": [
        {
          "output_type": "display_data",
          "data": {
            "image/png": "[encoded data removed]",
            "text/plain": [
              "<Figure size 1296x432 with 1 Axes>"
            ]
          },
          "metadata": {
            "tags": [],
            "needs_background": "light"
          }
        }
      ]
    },
    {
      "cell_type": "code",
      "metadata": {
        "id": "BGaW_45Pz8Bg",
        "colab_type": "code",
        "colab": {}
      },
      "source": [
        "from gensim.models.doc2vec import TaggedDocument, Doc2Vec\n",
        "from gensim.parsing.preprocessing import preprocess_string\n",
        "from sklearn.base import BaseEstimator\n",
        "from sklearn import utils as skl_utils\n",
        "from tqdm import tqdm\n",
        "\n",
        "import multiprocessing\n",
        "import numpy as np\n",
        "\n",
        "class Doc2VecTransformer(BaseEstimator):\n",
        "\n",
        "    def __init__(self, vector_size=100, learning_rate=0.02, epochs=20):\n",
        "        self.learning_rate = learning_rate\n",
        "        self.epochs = epochs\n",
        "        self._model = None\n",
        "        self.vector_size = vector_size\n",
        "        self.workers = multiprocessing.cpu_count() - 1\n",
        "\n",
        "    def fit(self, df_x, df_y=None):\n",
        "        tagged_x = [TaggedDocument(str(row['Plot']).split(), [index]) for index, row in df_x.iterrows()]\n",
        "        model = Doc2Vec(documents=tagged_x, vector_size=self.vector_size, workers=self.workers)\n",
        "\n",
        "        for epoch in range(self.epochs):\n",
        "            model.train(skl_utils.shuffle([x for x in tqdm(tagged_x)]), total_examples=len(tagged_x), epochs=1)\n",
        "            model.alpha -= self.learning_rate\n",
        "            model.min_alpha = model.alpha\n",
        "\n",
        "        self._model = model\n",
        "        return self\n",
        "\n",
        "    def transform(self, df_x):\n",
        "        return np.asmatrix(np.array([self._model.infer_vector(str(row['Plot']).split())\n",
        "                                     for index, row in df_x.iterrows()]))\n",
        "    "
      ],
      "execution_count": 0,
      "outputs": []
    },
    {
      "cell_type": "code",
      "metadata": {
        "id": "hIpKUPAs0Xbm",
        "colab_type": "code",
        "colab": {
          "base_uri": "https://localhost:8080/",
          "height": 357
        },
        "outputId": "36dd054b-9dce-4ff3-b49c-6d00aa96c7d7"
      },
      "source": [
        "doc2vec_tr = Doc2VecTransformer(vector_size=300)\n",
        "doc2vec_tr.fit(title_plot_df)\n",
        "doc2vec_vectors = doc2vec_tr.transform(title_plot_df)"
      ],
      "execution_count": 24,
      "outputs": [
        {
          "output_type": "stream",
          "text": [
            "100%|██████████| 34886/34886 [00:00<00:00, 3496773.55it/s]\n",
            "100%|██████████| 34886/34886 [00:00<00:00, 3426595.69it/s]\n",
            "100%|██████████| 34886/34886 [00:00<00:00, 2922533.59it/s]\n",
            "100%|██████████| 34886/34886 [00:00<00:00, 2818284.05it/s]\n",
            "100%|██████████| 34886/34886 [00:00<00:00, 3463418.13it/s]\n",
            "100%|██████████| 34886/34886 [00:00<00:00, 3469741.99it/s]\n",
            "100%|██████████| 34886/34886 [00:00<00:00, 2005846.48it/s]\n",
            "100%|██████████| 34886/34886 [00:00<00:00, 3579317.25it/s]\n",
            "100%|██████████| 34886/34886 [00:00<00:00, 3120814.09it/s]\n",
            "100%|██████████| 34886/34886 [00:00<00:00, 3565710.34it/s]\n",
            "100%|██████████| 34886/34886 [00:00<00:00, 3505401.98it/s]\n",
            "100%|██████████| 34886/34886 [00:00<00:00, 3379506.42it/s]\n",
            "100%|██████████| 34886/34886 [00:00<00:00, 3367296.21it/s]\n",
            "100%|██████████| 34886/34886 [00:00<00:00, 2581873.01it/s]\n",
            "100%|██████████| 34886/34886 [00:00<00:00, 2341047.46it/s]\n",
            "100%|██████████| 34886/34886 [00:00<00:00, 3213618.76it/s]\n",
            "100%|██████████| 34886/34886 [00:00<00:00, 3556004.89it/s]\n",
            "100%|██████████| 34886/34886 [00:00<00:00, 2389055.62it/s]\n",
            "100%|██████████| 34886/34886 [00:00<00:00, 3550654.92it/s]\n",
            "100%|██████████| 34886/34886 [00:00<00:00, 3434397.12it/s]\n"
          ],
          "name": "stderr"
        }
      ]
    },
    {
      "cell_type": "code",
      "metadata": {
        "id": "dvyoOjoQ5Pjv",
        "colab_type": "code",
        "colab": {
          "base_uri": "https://localhost:8080/",
          "height": 238
        },
        "outputId": "42ab626f-8efa-4e27-f5fd-72400493b6c5"
      },
      "source": [
        "print(doc2vec_vectors)"
      ],
      "execution_count": 25,
      "outputs": [
        {
          "output_type": "stream",
          "text": [
            "[[ 1.3108519e-04 -3.3717550e-04  1.6621595e-03 ...  1.0080222e-03\n",
            "   4.9436640e-04  1.3673940e-04]\n",
            " [-9.8810531e-04 -6.2234822e-04  1.2331272e-03 ...  6.7023811e-04\n",
            "  -1.3804145e-03 -5.7570048e-04]\n",
            " [ 1.3526692e-03 -1.0656868e-03  9.9354179e-04 ... -7.4636244e-04\n",
            "   7.2638504e-04  9.3368307e-04]\n",
            " ...\n",
            " [-5.9012661e-04 -6.8124398e-05  6.1867503e-04 ... -1.0222257e-03\n",
            "   9.7435521e-04  1.1021583e-04]\n",
            " [-9.1098883e-04  1.3675822e-03  1.2779139e-03 ... -1.2146132e-03\n",
            "  -1.0625919e-03  1.1058616e-03]\n",
            " [-1.5088364e-03  1.0855718e-03  5.7342633e-05 ...  1.1035041e-03\n",
            "  -5.8355118e-04  1.4090404e-03]]\n"
          ],
          "name": "stdout"
        }
      ]
    },
    {
      "cell_type": "code",
      "metadata": {
        "id": "yvQ6hhGb5Uek",
        "colab_type": "code",
        "colab": {}
      },
      "source": [
        "from sklearn.neural_network import MLPRegressor\n",
        "\n",
        "auto_encoder = MLPRegressor(hidden_layer_sizes=(\n",
        "                                                 600,\n",
        "                                                 150, \n",
        "                                                 600,\n",
        "                                               ))\n",
        "auto_encoder.fit(doc2vec_vectors, doc2vec_vectors)\n",
        "predicted_vectors = auto_encoder.predict(doc2vec_vectors)"
      ],
      "execution_count": 0,
      "outputs": []
    },
    {
      "cell_type": "code",
      "metadata": {
        "id": "aqFJuTyp5vCG",
        "colab_type": "code",
        "colab": {
          "base_uri": "https://localhost:8080/",
          "height": 238
        },
        "outputId": "6c702396-80ea-42e6-adc8-93d28fac95f5"
      },
      "source": [
        "print(predicted_vectors)"
      ],
      "execution_count": 27,
      "outputs": [
        {
          "output_type": "stream",
          "text": [
            "[[-0.00110294 -0.00148531 -0.00110263 ... -0.00049289 -0.0015077\n",
            "   0.00416529]\n",
            " [-0.00104966 -0.00141226 -0.00080577 ... -0.00034377 -0.00158611\n",
            "   0.00426107]\n",
            " [-0.00094334 -0.00138143 -0.00012505 ... -0.00088817 -0.00202245\n",
            "   0.00437757]\n",
            " ...\n",
            " [-0.00088322 -0.00137537 -0.00058467 ... -0.00071881 -0.00183279\n",
            "   0.00428456]\n",
            " [-0.00109786 -0.00121452 -0.0008508  ... -0.00037983 -0.00205771\n",
            "   0.00407038]\n",
            " [-0.00105615 -0.00148575 -0.000678   ... -0.00040453 -0.00166076\n",
            "   0.00448284]]\n"
          ],
          "name": "stdout"
        }
      ]
    },
    {
      "cell_type": "code",
      "metadata": {
        "id": "VuQ_Olqj5zJt",
        "colab_type": "code",
        "colab": {
          "base_uri": "https://localhost:8080/",
          "height": 88
        },
        "outputId": "83562a5a-3869-41c0-b893-b2848b498a0d"
      },
      "source": [
        "auto_encoder.score(predicted_vectors, doc2vec_vectors)"
      ],
      "execution_count": 28,
      "outputs": [
        {
          "output_type": "stream",
          "text": [
            "/usr/local/lib/python3.6/dist-packages/sklearn/base.py:434: FutureWarning: The default value of multioutput (not exposed in score method) will change from 'variance_weighted' to 'uniform_average' in 0.23 to keep consistent with 'metrics.r2_score'. To specify the default value manually and avoid the warning, please either call 'metrics.r2_score' directly or make a custom scorer with 'metrics.make_scorer' (the built-in scorer 'r2' uses multioutput='uniform_average').\n",
            "  \"multioutput='uniform_average').\", FutureWarning)\n"
          ],
          "name": "stderr"
        },
        {
          "output_type": "execute_result",
          "data": {
            "text/plain": [
              "0.9561046214986978"
            ]
          },
          "metadata": {
            "tags": []
          },
          "execution_count": 28
        }
      ]
    },
    {
      "cell_type": "code",
      "metadata": {
        "id": "nPVOt3ki54Iv",
        "colab_type": "code",
        "colab": {
          "base_uri": "https://localhost:8080/",
          "height": 282
        },
        "outputId": "6614da3b-d405-419b-8228-0749e60ff113"
      },
      "source": [
        "pd.DataFrame(auto_encoder.loss_curve_).plot()"
      ],
      "execution_count": 29,
      "outputs": [
        {
          "output_type": "execute_result",
          "data": {
            "text/plain": [
              "<matplotlib.axes._subplots.AxesSubplot at 0x7f50292b5828>"
            ]
          },
          "metadata": {
            "tags": []
          },
          "execution_count": 29
        },
        {
          "output_type": "display_data",
          "data": {
            "image/png": "[encoded data removed]",
            "text/plain": [
              "<Figure size 432x288 with 1 Axes>"
            ]
          },
          "metadata": {
            "tags": [],
            "needs_background": "light"
          }
        }
      ]
    },
    {
      "cell_type": "code",
      "metadata": {
        "id": "yPePg-_e58Q8",
        "colab_type": "code",
        "colab": {}
      },
      "source": [
        "from scipy.spatial.distance import cosine\n",
        "\n",
        "def key_consine_similarity(tupple):\n",
        "    return tupple[1]\n",
        "\n",
        "def get_computed_similarities(vectors, predicted_vectors, reverse=False):\n",
        "    data_size = len(title_plot_df)\n",
        "    cosine_similarities = []\n",
        "    for i in range(data_size):\n",
        "        cosine_sim_val = (1 - cosine(vectors[i], predicted_vectors[i]))\n",
        "        cosine_similarities.append((i, cosine_sim_val))\n",
        "\n",
        "    return sorted(cosine_similarities, key=key_consine_similarity, reverse=reverse)\n",
        "\n",
        "def display_top_n(sorted_cosine_similarities, n=5):\n",
        "    for i in range(n):\n",
        "        index, consine_sim_val = sorted_cosine_similarities[i]\n",
        "        print('Movie Title: ', title_plot_df.iloc[index, 0])  \n",
        "        print('Cosine Sim Val :', consine_sim_val)\n",
        "        print('---------------------------------')"
      ],
      "execution_count": 0,
      "outputs": []
    },
    {
      "cell_type": "code",
      "metadata": {
        "id": "VskbQdWe6Kbu",
        "colab_type": "code",
        "colab": {
          "base_uri": "https://localhost:8080/",
          "height": 289
        },
        "outputId": "ce7caf8b-dc0f-4407-9f99-026525e3308f"
      },
      "source": [
        "print('Top 5 unique movies')\n",
        "sorted_cosine_similarities = get_computed_similarities(vectors=doc2vec_vectors, predicted_vectors=predicted_vectors)\n",
        "display_top_n(sorted_cosine_similarities=sorted_cosine_similarities)"
      ],
      "execution_count": 31,
      "outputs": [
        {
          "output_type": "stream",
          "text": [
            "Top 5 unique movies\n",
            "Movie Title:  Simran\n",
            "Cosine Sim Val : -0.3549463516247773\n",
            "---------------------------------\n",
            "Movie Title:  Pannaiyarum Padminiyum\n",
            "Cosine Sim Val : -0.3008986371253455\n",
            "---------------------------------\n",
            "Movie Title:  Omkara\n",
            "Cosine Sim Val : -0.28907545611883756\n",
            "---------------------------------\n",
            "Movie Title:  Birds Anonymous\n",
            "Cosine Sim Val : -0.2885572601379729\n",
            "---------------------------------\n",
            "Movie Title:  Fierce Creatures\n",
            "Cosine Sim Val : -0.2866963511216589\n",
            "---------------------------------\n"
          ],
          "name": "stdout"
        }
      ]
    },
    {
      "cell_type": "code",
      "metadata": {
        "id": "aEqQEFw06x2d",
        "colab_type": "code",
        "colab": {
          "base_uri": "https://localhost:8080/",
          "height": 449
        },
        "outputId": "5595731e-106e-47af-ecb3-585c121554cb"
      },
      "source": [
        "uncommon_word_count_items = [word for word in islice(all_word_counts, 300000)]\n",
        "all_movies_uncommon_word_counter = Counter(dict(uncommon_word_count_items))\n",
        "common_word_counter = Counter(aggregate_counter.most_common(1000))\n",
        "intersected_uncommon_word_counter = all_movies_uncommon_word_counter & most_unique_movie_words_counter\n",
        "intersected_uncommon_words = [word[0] for word in intersected_uncommon_word_counter.items()]\n",
        "intersected_uncommon_word_counts = [word[1] for word in intersected_uncommon_word_counter.items()]\n",
        "barplot(words=intersected_uncommon_words, words_counts=intersected_uncommon_word_counts,\n",
        "        title='Few Common words between all words of most unique movie & least frequent words in all movies')"
      ],
      "execution_count": 33,
      "outputs": [
        {
          "output_type": "display_data",
          "data": {
            "image/png": "[encoded data removed]",
            "text/plain": [
              "<Figure size 1296x432 with 1 Axes>"
            ]
          },
          "metadata": {
            "tags": [],
            "needs_background": "light"
          }
        }
      ]
    }
  ]
}