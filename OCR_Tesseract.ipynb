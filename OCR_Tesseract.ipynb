{
  "nbformat": 4,
  "nbformat_minor": 0,
  "metadata": {
    "colab": {
      "name": "OCR_Tesseract.ipynb",
      "provenance": []
    },
    "kernelspec": {
      "name": "python3",
      "display_name": "Python 3"
    }
  },
  "cells": [
    {
      "cell_type": "code",
      "metadata": {
        "id": "WbYCqE2vFi2l",
        "colab_type": "code",
        "colab": {
          "base_uri": "https://localhost:8080/",
          "height": 632
        },
        "outputId": "392e9b51-5469-46a9-f3cf-14e3197e6fa4"
      },
      "source": [
        "!sudo apt install tesseract-ocr"
      ],
      "execution_count": 1,
      "outputs": [
        {
          "output_type": "stream",
          "text": [
            "Reading package lists... Done\n",
            "Building dependency tree       \n",
            "Reading state information... Done\n",
            "The following additional packages will be installed:\n",
            "  tesseract-ocr-eng tesseract-ocr-osd\n",
            "The following NEW packages will be installed:\n",
            "  tesseract-ocr tesseract-ocr-eng tesseract-ocr-osd\n",
            "0 upgraded, 3 newly installed, 0 to remove and 25 not upgraded.\n",
            "Need to get 4,795 kB of archives.\n",
            "After this operation, 15.8 MB of additional disk space will be used.\n",
            "Get:1 http://archive.ubuntu.com/ubuntu bionic/universe amd64 tesseract-ocr-eng all 4.00~git24-0e00fe6-1.2 [1,588 kB]\n",
            "Get:2 http://archive.ubuntu.com/ubuntu bionic/universe amd64 tesseract-ocr-osd all 4.00~git24-0e00fe6-1.2 [2,989 kB]\n",
            "Get:3 http://archive.ubuntu.com/ubuntu bionic/universe amd64 tesseract-ocr amd64 4.00~git2288-10f4998a-2 [218 kB]\n",
            "Fetched 4,795 kB in 1s (4,666 kB/s)\n",
            "debconf: unable to initialize frontend: Dialog\n",
            "debconf: (No usable dialog-like program is installed, so the dialog based frontend cannot be used. at /usr/share/perl5/Debconf/FrontEnd/Dialog.pm line 76, <> line 3.)\n",
            "debconf: falling back to frontend: Readline\n",
            "debconf: unable to initialize frontend: Readline\n",
            "debconf: (This frontend requires a controlling tty.)\n",
            "debconf: falling back to frontend: Teletype\n",
            "dpkg-preconfigure: unable to re-open stdin: \n",
            "Selecting previously unselected package tesseract-ocr-eng.\n",
            "(Reading database ... 144568 files and directories currently installed.)\n",
            "Preparing to unpack .../tesseract-ocr-eng_4.00~git24-0e00fe6-1.2_all.deb ...\n",
            "Unpacking tesseract-ocr-eng (4.00~git24-0e00fe6-1.2) ...\n",
            "Selecting previously unselected package tesseract-ocr-osd.\n",
            "Preparing to unpack .../tesseract-ocr-osd_4.00~git24-0e00fe6-1.2_all.deb ...\n",
            "Unpacking tesseract-ocr-osd (4.00~git24-0e00fe6-1.2) ...\n",
            "Selecting previously unselected package tesseract-ocr.\n",
            "Preparing to unpack .../tesseract-ocr_4.00~git2288-10f4998a-2_amd64.deb ...\n",
            "Unpacking tesseract-ocr (4.00~git2288-10f4998a-2) ...\n",
            "Setting up tesseract-ocr-osd (4.00~git24-0e00fe6-1.2) ...\n",
            "Setting up tesseract-ocr-eng (4.00~git24-0e00fe6-1.2) ...\n",
            "Setting up tesseract-ocr (4.00~git2288-10f4998a-2) ...\n",
            "Processing triggers for man-db (2.8.3-2ubuntu0.1) ...\n"
          ],
          "name": "stdout"
        }
      ]
    },
    {
      "cell_type": "code",
      "metadata": {
        "id": "KlrHLp7UFvLK",
        "colab_type": "code",
        "colab": {
          "base_uri": "https://localhost:8080/",
          "height": 207
        },
        "outputId": "d12aaaeb-9e1e-4121-ad97-4fb5af51e52d"
      },
      "source": [
        "!pip install pytesseract"
      ],
      "execution_count": 2,
      "outputs": [
        {
          "output_type": "stream",
          "text": [
            "Collecting pytesseract\n",
            "  Downloading https://files.pythonhosted.org/packages/1d/d8/521db389ff0aae32035bfda6ed39cb2c2e28521c47015f6431f07460c50a/pytesseract-0.3.4.tar.gz\n",
            "Requirement already satisfied: Pillow in /usr/local/lib/python3.6/dist-packages (from pytesseract) (7.0.0)\n",
            "Building wheels for collected packages: pytesseract\n",
            "  Building wheel for pytesseract (setup.py) ... \u001b[?25l\u001b[?25hdone\n",
            "  Created wheel for pytesseract: filename=pytesseract-0.3.4-py2.py3-none-any.whl size=13431 sha256=1e74ca1e46fbba33450fbd07b347f89d8017a5e508e46ce650b95ff5b8eab56d\n",
            "  Stored in directory: /root/.cache/pip/wheels/63/2a/a0/7596d2e0a73cf0aeffd6f6170862c4e73f3763b7827e48691a\n",
            "Successfully built pytesseract\n",
            "Installing collected packages: pytesseract\n",
            "Successfully installed pytesseract-0.3.4\n"
          ],
          "name": "stdout"
        }
      ]
    },
    {
      "cell_type": "code",
      "metadata": {
        "id": "6QFyGnQBFz8o",
        "colab_type": "code",
        "colab": {}
      },
      "source": [
        "import pytesseract\n",
        "import shutil\n",
        "import os\n",
        "import random\n",
        "try:\n",
        "    from PIL import Image\n",
        "except ImportError:\n",
        "    import Image"
      ],
      "execution_count": 0,
      "outputs": []
    },
    {
      "cell_type": "code",
      "metadata": {
        "id": "ln2JJRFeF3WQ",
        "colab_type": "code",
        "colab": {}
      },
      "source": [
        "extractedInformation = pytesseract.image_to_string(Image.open('/content/drive/My Drive/ANPD2/1/2.jpg'))"
      ],
      "execution_count": 0,
      "outputs": []
    },
    {
      "cell_type": "code",
      "metadata": {
        "id": "UWvxK0C1GU5I",
        "colab_type": "code",
        "colab": {
          "base_uri": "https://localhost:8080/",
          "height": 34
        },
        "outputId": "fe63b8d1-4795-410b-d41a-f4cd31d3b20a"
      },
      "source": [
        "print(extractedInformation)"
      ],
      "execution_count": 6,
      "outputs": [
        {
          "output_type": "stream",
          "text": [
            "AAO ay\n"
          ],
          "name": "stdout"
        }
      ]
    },
    {
      "cell_type": "code",
      "metadata": {
        "id": "dOmcemcRGZ7H",
        "colab_type": "code",
        "colab": {}
      },
      "source": [
        "extractedInformation = pytesseract.image_to_string(Image.open('/content/drive/My Drive/OCR/Image1.jpeg'))"
      ],
      "execution_count": 0,
      "outputs": []
    },
    {
      "cell_type": "code",
      "metadata": {
        "id": "LdsMAckzHIqU",
        "colab_type": "code",
        "colab": {
          "base_uri": "https://localhost:8080/",
          "height": 510
        },
        "outputId": "bc9fa875-f2d1-48cc-e8d8-e8c41b510c2e"
      },
      "source": [
        "print(extractedInformation)"
      ],
      "execution_count": 8,
      "outputs": [
        {
          "output_type": "stream",
          "text": [
            "THE SUNCADIA RESORT\n",
            "\n",
            " \n",
            "\n",
            " \n",
            "\n",
            "TC GOLF HOUSE\n",
            "1103 CLAIRE 7\n",
            "V5 1275 (6ST 1\n",
            "SARK\n",
            "JUNOS'11 10:16AM\n",
            "\n",
            "935 HEINEKEN 157.50\n",
            "‘35 COORS LT 175,00\n",
            "12 GREY GOSSE 120.00\n",
            "7 BUD LIGHT 35.00\n",
            "7 BAJA CHICKEN 84.00\n",
            "2 RANCHER 24.00\n",
            "1 CLASSIC 8,00\n",
            "1 SALMON BLT 13.00\n",
            "1 DRIVER 12,00\n",
            "6 CORONA 36.00\n",
            "2 7-UP 4.50\n",
            "Stota) 669.00\n",
            "53,52\n",
            "\n",
            "3: 6 ent Que $722.52\n",
            "FOR HOTEL GUEST ROOM CHARGE ONLY\n",
            "Gratuity.\n"
          ],
          "name": "stdout"
        }
      ]
    },
    {
      "cell_type": "code",
      "metadata": {
        "id": "82ES_KAPHLGi",
        "colab_type": "code",
        "colab": {}
      },
      "source": [
        "extractedInformation = pytesseract.image_to_string(Image.open('/content/drive/My Drive/OCR/Image2.png'))"
      ],
      "execution_count": 0,
      "outputs": []
    },
    {
      "cell_type": "code",
      "metadata": {
        "id": "zuQbHhFGHbQb",
        "colab_type": "code",
        "colab": {
          "base_uri": "https://localhost:8080/",
          "height": 459
        },
        "outputId": "40df5366-851a-493d-f6ee-7be3ad5a80a6"
      },
      "source": [
        "print(extractedInformation)"
      ],
      "execution_count": 10,
      "outputs": [
        {
          "output_type": "stream",
          "text": [
            "ABOUT ESSENTIALS OF LINGUISTICS\n",
            "\n",
            " \n",
            "\n",
            "This Open Educational Resource (OER) brings together Open Access content from\n",
            "around the web and enhances it with dynamic video lectures about the core areas of\n",
            "theoretical linguistics (phonetics, phonology, morphology, syntax, and semantics),\n",
            "supplemented with discussion of psycholinguistic and neurolinguistic findings. Essentials\n",
            "of Linguistics is suitable for any beginning learner of linguistics but is primarily aimed at\n",
            "the Canadian learner, focusing on Canadian English for learning phonetic transcription,\n",
            "and discussing the status of Indigenous languages in Canada. Drawing on best practices\n",
            "for instructional design, Essentials of Linguistics is suitable for blended classes, traditional\n",
            "lecture classes, and for self-directed learning. No prior knowledge of linguistics is\n",
            "required.\n",
            "\n",
            "TO THE STUDENT\n",
            "\n",
            " \n",
            "\n",
            "Your instructor might assign some parts or all of this OER to support your learning, or\n",
            "you may choose to use it to teach yourself introductory linguistics. You might decide to\n",
            "read the textbook straight through and watch the videos in order, or you might select\n",
            "specific topics that are of particular interest to you. However you use the OER, we\n",
            "recommend that you begin with Chapter 1, which provides fundamentals for the rest of\n",
            "the topics. You will also find that if you complete the quizzes and attempt the exercises,\n",
            "you'll achieve a better understanding of the material in each chapter.\n"
          ],
          "name": "stdout"
        }
      ]
    },
    {
      "cell_type": "code",
      "metadata": {
        "id": "59mN6Z--HdJd",
        "colab_type": "code",
        "colab": {}
      },
      "source": [
        "extractedInformation = pytesseract.image_to_string(Image.open('/content/drive/My Drive/OCR/Image3.png'))"
      ],
      "execution_count": 0,
      "outputs": []
    },
    {
      "cell_type": "code",
      "metadata": {
        "id": "lfLf2tboHkR2",
        "colab_type": "code",
        "colab": {
          "base_uri": "https://localhost:8080/",
          "height": 323
        },
        "outputId": "0adbc043-0778-4ff2-e8f9-6a4e12a17904"
      },
      "source": [
        "print(extractedInformation)"
      ],
      "execution_count": 12,
      "outputs": [
        {
          "output_type": "stream",
          "text": [
            "Abstract\n",
            "\n",
            "Natural language processing tasks, such as ques-\n",
            "tion answering, machine translation, reading com-\n",
            "prehension, and summarization, are typically\n",
            "approached with supervised learning on task-\n",
            "specific datasets. We demonstrate that language\n",
            "models begin to learn these tasks without any ex-\n",
            "plicit supervision when trained on a new dataset\n",
            "of millions of webpages called WebText. When\n",
            "conditioned on a document plus questions, the an-\n",
            "swers generated by the language model reach 55\n",
            "FI on the CoQA dataset - matching or exceeding\n",
            "the performance of 3 out of 4 baseline systems\n",
            "without using the 127,000+ training examples.\n",
            "The capacity of the language model is essential\n",
            "to the success of zero-shot task transfer and in-\n",
            "creasing it improves performance in a log-linear\n"
          ],
          "name": "stdout"
        }
      ]
    }
  ]
}