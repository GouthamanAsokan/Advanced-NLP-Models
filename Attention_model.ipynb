{
  "nbformat": 4,
  "nbformat_minor": 0,
  "metadata": {
    "colab": {
      "name": "Attention_model.ipynb",
      "provenance": [],
      "collapsed_sections": [],
      "toc_visible": true
    },
    "kernelspec": {
      "name": "python3",
      "display_name": "Python 3"
    },
    "accelerator": "GPU"
  },
  "cells": [
    {
      "cell_type": "code",
      "metadata": {
        "id": "CidlQR0p3dZp",
        "colab_type": "code",
        "colab": {}
      },
      "source": [
        "from __future__ import print_function, division\n",
        "from builtins import range, input"
      ],
      "execution_count": 0,
      "outputs": []
    },
    {
      "cell_type": "code",
      "metadata": {
        "id": "1UIYdSPJ3nZS",
        "colab_type": "code",
        "colab": {
          "base_uri": "https://localhost:8080/",
          "height": 253
        },
        "outputId": "5ae909ab-927e-49e9-b122-ccb9fe500b60"
      },
      "source": [
        "import os, sys\n",
        "\n",
        "from keras.models import Model\n",
        "from keras.layers import Input, LSTM, GRU, Dense, Embedding, \\\n",
        "  Bidirectional, RepeatVector, Concatenate, Activation, Dot, Lambda\n",
        "from keras.preprocessing.text import Tokenizer\n",
        "from keras.preprocessing.sequence import pad_sequences\n",
        "import keras.backend as K\n",
        "\n",
        "import numpy as np\n",
        "import matplotlib.pyplot as plt\n",
        "\n",
        "if len(K.tensorflow_backend._get_available_gpus()) > 0:\n",
        "  from keras.layers import CuDNNLSTM as LSTM\n",
        "  from keras.layers import CuDNNGRU as GRU\n"
      ],
      "execution_count": 2,
      "outputs": [
        {
          "output_type": "stream",
          "text": [
            "Using TensorFlow backend.\n"
          ],
          "name": "stderr"
        },
        {
          "output_type": "display_data",
          "data": {
            "text/html": [
              "<p style=\"color: red;\">\n",
              "The default version of TensorFlow in Colab will soon switch to TensorFlow 2.x.<br>\n",
              "We recommend you <a href=\"https://www.tensorflow.org/guide/migrate\" target=\"_blank\">upgrade</a> now \n",
              "or ensure your notebook will continue to use TensorFlow 1.x via the <code>%tensorflow_version 1.x</code> magic:\n",
              "<a href=\"https://colab.research.google.com/notebooks/tensorflow_version.ipynb\" target=\"_blank\">more info</a>.</p>\n"
            ],
            "text/plain": [
              "<IPython.core.display.HTML object>"
            ]
          },
          "metadata": {
            "tags": []
          }
        },
        {
          "output_type": "stream",
          "text": [
            "WARNING:tensorflow:From /usr/local/lib/python3.6/dist-packages/keras/backend/tensorflow_backend.py:190: The name tf.get_default_session is deprecated. Please use tf.compat.v1.get_default_session instead.\n",
            "\n",
            "WARNING:tensorflow:From /usr/local/lib/python3.6/dist-packages/keras/backend/tensorflow_backend.py:197: The name tf.ConfigProto is deprecated. Please use tf.compat.v1.ConfigProto instead.\n",
            "\n",
            "WARNING:tensorflow:From /usr/local/lib/python3.6/dist-packages/keras/backend/tensorflow_backend.py:203: The name tf.Session is deprecated. Please use tf.compat.v1.Session instead.\n",
            "\n",
            "WARNING:tensorflow:From /usr/local/lib/python3.6/dist-packages/keras/backend/tensorflow_backend.py:207: The name tf.global_variables is deprecated. Please use tf.compat.v1.global_variables instead.\n",
            "\n"
          ],
          "name": "stdout"
        }
      ]
    },
    {
      "cell_type": "code",
      "metadata": {
        "id": "5_AI_v013uy6",
        "colab_type": "code",
        "colab": {
          "base_uri": "https://localhost:8080/",
          "height": 122
        },
        "outputId": "3e99d974-217a-4c64-e846-9bcead0e6a1f"
      },
      "source": [
        "from google.colab import drive\n",
        "drive.mount('/content/drive')"
      ],
      "execution_count": 3,
      "outputs": [
        {
          "output_type": "stream",
          "text": [
            "Go to this URL in a browser: https://accounts.google.com/o/oauth2/auth?client_id=947318989803-6bn6qk8qdgf4n4g3pfee6491hc0brc4i.apps.googleusercontent.com&redirect_uri=urn%3Aietf%3Awg%3Aoauth%3A2.0%3Aoob&scope=email%20https%3A%2F%2Fwww.googleapis.com%2Fauth%2Fdocs.test%20https%3A%2F%2Fwww.googleapis.com%2Fauth%2Fdrive%20https%3A%2F%2Fwww.googleapis.com%2Fauth%2Fdrive.photos.readonly%20https%3A%2F%2Fwww.googleapis.com%2Fauth%2Fpeopleapi.readonly&response_type=code\n",
            "\n",
            "Enter your authorization code:\n",
            "··········\n",
            "Mounted at /content/drive\n"
          ],
          "name": "stdout"
        }
      ]
    },
    {
      "cell_type": "code",
      "metadata": {
        "id": "ED_brxR433Cu",
        "colab_type": "code",
        "colab": {}
      },
      "source": [
        "# make sure we do softmax over the time axis\n",
        "# expected shape is N x T x D\n",
        "def softmax_over_time(x):\n",
        "  assert(K.ndim(x) > 2)\n",
        "  e = K.exp(x - K.max(x, axis=1, keepdims=True))\n",
        "  s = K.sum(e, axis=1, keepdims=True)\n",
        "  return e / s"
      ],
      "execution_count": 0,
      "outputs": []
    },
    {
      "cell_type": "code",
      "metadata": {
        "id": "98VBJtA84Otp",
        "colab_type": "code",
        "colab": {}
      },
      "source": [
        "# config\n",
        "BATCH_SIZE = 64\n",
        "EPOCHS = 100\n",
        "LATENT_DIM = 256\n",
        "LATENT_DIM_DECODER = 256 # idea: make it different to ensure things all fit together properly!\n",
        "NUM_SAMPLES = 10000\n",
        "MAX_SEQUENCE_LENGTH = 100\n",
        "MAX_NUM_WORDS = 20000\n",
        "EMBEDDING_DIM = 50"
      ],
      "execution_count": 0,
      "outputs": []
    },
    {
      "cell_type": "code",
      "metadata": {
        "id": "hotOW1dv4VVv",
        "colab_type": "code",
        "colab": {}
      },
      "source": [
        "# Where we will store the data\n",
        "input_texts = [] # sentence in original language\n",
        "target_texts = [] # sentence in target language\n",
        "target_texts_inputs = [] # sentence in target language offset by 1"
      ],
      "execution_count": 0,
      "outputs": []
    },
    {
      "cell_type": "code",
      "metadata": {
        "id": "f3IDvVmY4YfC",
        "colab_type": "code",
        "colab": {
          "base_uri": "https://localhost:8080/",
          "height": 34
        },
        "outputId": "70cfd05e-ebf1-49d8-ff58-0725fb2cf528"
      },
      "source": [
        "# load in the data\n",
        "t = 0\n",
        "for line in open('/content/drive/My Drive/Language Translation/fra.txt'):\n",
        "  # only keep a limited number of samples\n",
        "  t += 1\n",
        "  if t > NUM_SAMPLES:\n",
        "    break\n",
        "\n",
        "  # input and target are separated by tab\n",
        "  if '\\t' not in line:\n",
        "    continue\n",
        "\n",
        "  # split up the input and translation\n",
        "  input_text, translation = line.rstrip().split('\\t')\n",
        "\n",
        "  # make the target input and output\n",
        "  # recall we'll be using teacher forcing\n",
        "  target_text = translation + ' <eos>'\n",
        "  target_text_input = '<sos> ' + translation\n",
        "\n",
        "  input_texts.append(input_text)\n",
        "  target_texts.append(target_text)\n",
        "  target_texts_inputs.append(target_text_input)\n",
        "print(\"num samples:\", len(input_texts))\n",
        "\n"
      ],
      "execution_count": 7,
      "outputs": [
        {
          "output_type": "stream",
          "text": [
            "num samples: 10000\n"
          ],
          "name": "stdout"
        }
      ]
    },
    {
      "cell_type": "code",
      "metadata": {
        "id": "DmUWDaF44i4b",
        "colab_type": "code",
        "colab": {
          "base_uri": "https://localhost:8080/",
          "height": 34
        },
        "outputId": "cb285d50-5e28-4b17-f794-1d92603cf178"
      },
      "source": [
        "# tokenize the inputs\n",
        "tokenizer_inputs = Tokenizer(num_words=MAX_NUM_WORDS)\n",
        "tokenizer_inputs.fit_on_texts(input_texts)\n",
        "input_sequences = tokenizer_inputs.texts_to_sequences(input_texts)\n",
        "\n",
        "# get the word to index mapping for input language\n",
        "word2idx_inputs = tokenizer_inputs.word_index\n",
        "print('Found %s unique input tokens.' % len(word2idx_inputs))"
      ],
      "execution_count": 8,
      "outputs": [
        {
          "output_type": "stream",
          "text": [
            "Found 2139 unique input tokens.\n"
          ],
          "name": "stdout"
        }
      ]
    },
    {
      "cell_type": "code",
      "metadata": {
        "id": "PA562iRF4nMZ",
        "colab_type": "code",
        "colab": {
          "base_uri": "https://localhost:8080/",
          "height": 34
        },
        "outputId": "8a263532-b7d0-47a2-c8dd-9fa33d04c9a3"
      },
      "source": [
        "# determine maximum length input sequence\n",
        "max_len_input = max(len(s) for s in input_sequences)\n",
        "\n",
        "# tokenize the outputs\n",
        "# don't filter out special characters\n",
        "# otherwise <sos> and <eos> won't appear\n",
        "tokenizer_outputs = Tokenizer(num_words=MAX_NUM_WORDS, filters='')\n",
        "tokenizer_outputs.fit_on_texts(target_texts + target_texts_inputs) # inefficient, oh well\n",
        "target_sequences = tokenizer_outputs.texts_to_sequences(target_texts)\n",
        "target_sequences_inputs = tokenizer_outputs.texts_to_sequences(target_texts_inputs)\n",
        "\n",
        "# get the word to index mapping for output language\n",
        "word2idx_outputs = tokenizer_outputs.word_index\n",
        "print('Found %s unique output tokens.' % len(word2idx_outputs))\n"
      ],
      "execution_count": 9,
      "outputs": [
        {
          "output_type": "stream",
          "text": [
            "Found 5771 unique output tokens.\n"
          ],
          "name": "stdout"
        }
      ]
    },
    {
      "cell_type": "code",
      "metadata": {
        "id": "rMJifsn84trC",
        "colab_type": "code",
        "colab": {}
      },
      "source": [
        "# store number of output words for later\n",
        "# remember to add 1 since indexing starts at 1\n",
        "num_words_output = len(word2idx_outputs) + 1\n",
        "\n",
        "# determine maximum length output sequence\n",
        "max_len_target = max(len(s) for s in target_sequences)\n"
      ],
      "execution_count": 0,
      "outputs": []
    },
    {
      "cell_type": "code",
      "metadata": {
        "id": "E7Vb-tek4yqV",
        "colab_type": "code",
        "colab": {
          "base_uri": "https://localhost:8080/",
          "height": 85
        },
        "outputId": "42da4fd8-cb5c-4237-8b83-02f2575d1da4"
      },
      "source": [
        "# pad the sequences\n",
        "encoder_inputs = pad_sequences(input_sequences, maxlen=max_len_input)\n",
        "print(\"encoder_data.shape:\", encoder_inputs.shape)\n",
        "print(\"encoder_data[0]:\", encoder_inputs[0])\n",
        "\n",
        "decoder_inputs = pad_sequences(target_sequences_inputs, maxlen=max_len_target, padding='post')\n",
        "print(\"decoder_data[0]:\", decoder_inputs[0])\n",
        "print(\"decoder_data.shape:\", decoder_inputs.shape)\n",
        "\n",
        "decoder_targets = pad_sequences(target_sequences, maxlen=max_len_target, padding='post')"
      ],
      "execution_count": 11,
      "outputs": [
        {
          "output_type": "stream",
          "text": [
            "encoder_data.shape: (10000, 5)\n",
            "encoder_data[0]: [ 0  0  0  0 14]\n",
            "decoder_data[0]: [ 2 56  4  0  0  0  0  0  0  0  0]\n",
            "decoder_data.shape: (10000, 11)\n"
          ],
          "name": "stdout"
        }
      ]
    },
    {
      "cell_type": "code",
      "metadata": {
        "id": "Cb-LzHhi43TL",
        "colab_type": "code",
        "colab": {
          "base_uri": "https://localhost:8080/",
          "height": 357
        },
        "outputId": "9ad01043-d330-4d0e-d56d-4b46f91b01fb"
      },
      "source": [
        "!wget http://nlp.stanford.edu/data/glove.6B.zip"
      ],
      "execution_count": 12,
      "outputs": [
        {
          "output_type": "stream",
          "text": [
            "--2019-10-30 13:38:31--  http://nlp.stanford.edu/data/glove.6B.zip\n",
            "Resolving nlp.stanford.edu (nlp.stanford.edu)... 171.64.67.140\n",
            "Connecting to nlp.stanford.edu (nlp.stanford.edu)|171.64.67.140|:80... connected.\n",
            "HTTP request sent, awaiting response... 302 Found\n",
            "Location: https://nlp.stanford.edu/data/glove.6B.zip [following]\n",
            "--2019-10-30 13:38:32--  https://nlp.stanford.edu/data/glove.6B.zip\n",
            "Connecting to nlp.stanford.edu (nlp.stanford.edu)|171.64.67.140|:443... connected.\n",
            "HTTP request sent, awaiting response... 301 Moved Permanently\n",
            "Location: http://downloads.cs.stanford.edu/nlp/data/glove.6B.zip [following]\n",
            "--2019-10-30 13:38:32--  http://downloads.cs.stanford.edu/nlp/data/glove.6B.zip\n",
            "Resolving downloads.cs.stanford.edu (downloads.cs.stanford.edu)... 171.64.64.22\n",
            "Connecting to downloads.cs.stanford.edu (downloads.cs.stanford.edu)|171.64.64.22|:80... connected.\n",
            "HTTP request sent, awaiting response... 200 OK\n",
            "Length: 862182613 (822M) [application/zip]\n",
            "Saving to: ‘glove.6B.zip’\n",
            "\n",
            "glove.6B.zip        100%[===================>] 822.24M  1.88MB/s    in 6m 27s  \n",
            "\n",
            "2019-10-30 13:44:59 (2.12 MB/s) - ‘glove.6B.zip’ saved [862182613/862182613]\n",
            "\n"
          ],
          "name": "stdout"
        }
      ]
    },
    {
      "cell_type": "code",
      "metadata": {
        "id": "LgdjLUhX6f8H",
        "colab_type": "code",
        "colab": {
          "base_uri": "https://localhost:8080/",
          "height": 102
        },
        "outputId": "8673d2c2-bcaf-432a-981a-f72682ae1772"
      },
      "source": [
        "!unzip glove*.zip"
      ],
      "execution_count": 13,
      "outputs": [
        {
          "output_type": "stream",
          "text": [
            "Archive:  glove.6B.zip\n",
            "  inflating: glove.6B.50d.txt        \n",
            "  inflating: glove.6B.100d.txt       \n",
            "  inflating: glove.6B.200d.txt       \n",
            "  inflating: glove.6B.300d.txt       \n"
          ],
          "name": "stdout"
        }
      ]
    },
    {
      "cell_type": "code",
      "metadata": {
        "id": "12FPD8BA6nnE",
        "colab_type": "code",
        "colab": {
          "base_uri": "https://localhost:8080/",
          "height": 51
        },
        "outputId": "fcb565af-dd3b-473b-83d8-f4263e681870"
      },
      "source": [
        "# store all the pre-trained word vectors\n",
        "import io\n",
        "print('Loading word vectors...')\n",
        "word2vec = {}\n",
        "with io.open('glove.6B.50d.txt', encoding='utf8') as f:\n",
        "  # is just a space-separated text file in the format:\n",
        "  # word vec[0] vec[1] vec[2] ...\n",
        "  for line in f:\n",
        "    values = line.split()\n",
        "    word = values[0]\n",
        "    vec = np.asarray(values[1:], dtype='float32')\n",
        "    word2vec[word] = vec\n",
        "print('Found %s word vectors.' % len(word2vec))"
      ],
      "execution_count": 14,
      "outputs": [
        {
          "output_type": "stream",
          "text": [
            "Loading word vectors...\n",
            "Found 400000 word vectors.\n"
          ],
          "name": "stdout"
        }
      ]
    },
    {
      "cell_type": "code",
      "metadata": {
        "id": "fms9-Hdn6xGP",
        "colab_type": "code",
        "colab": {
          "base_uri": "https://localhost:8080/",
          "height": 34
        },
        "outputId": "3df4baec-546b-4bf9-80f1-ed86296abf30"
      },
      "source": [
        "# prepare embedding matrix\n",
        "print('Filling pre-trained embeddings...')\n",
        "num_words = min(MAX_NUM_WORDS, len(word2idx_inputs) + 1)\n",
        "embedding_matrix = np.zeros((num_words, EMBEDDING_DIM))\n",
        "for word, i in word2idx_inputs.items():\n",
        "  if i < MAX_NUM_WORDS:\n",
        "    embedding_vector = word2vec.get(word)\n",
        "    if embedding_vector is not None:\n",
        "      # words not found in embedding index will be all zeros.\n",
        "      embedding_matrix[i] = embedding_vector"
      ],
      "execution_count": 15,
      "outputs": [
        {
          "output_type": "stream",
          "text": [
            "Filling pre-trained embeddings...\n"
          ],
          "name": "stdout"
        }
      ]
    },
    {
      "cell_type": "code",
      "metadata": {
        "id": "EJNZU8kr6y_U",
        "colab_type": "code",
        "colab": {
          "base_uri": "https://localhost:8080/",
          "height": 71
        },
        "outputId": "049c5162-8538-4a72-c74f-90877055fbc5"
      },
      "source": [
        "# create embedding layer\n",
        "embedding_layer = Embedding(\n",
        "  num_words,\n",
        "  EMBEDDING_DIM,\n",
        "  weights=[embedding_matrix],\n",
        "  input_length=max_len_input,\n",
        "  # trainable=True\n",
        ")"
      ],
      "execution_count": 16,
      "outputs": [
        {
          "output_type": "stream",
          "text": [
            "WARNING:tensorflow:From /usr/local/lib/python3.6/dist-packages/keras/backend/tensorflow_backend.py:66: The name tf.get_default_graph is deprecated. Please use tf.compat.v1.get_default_graph instead.\n",
            "\n"
          ],
          "name": "stdout"
        }
      ]
    },
    {
      "cell_type": "code",
      "metadata": {
        "id": "r-AHYxdG63ES",
        "colab_type": "code",
        "colab": {}
      },
      "source": [
        "# create targets, since we cannot use sparse\n",
        "# categorical cross entropy when we have sequences\n",
        "decoder_targets_one_hot = np.zeros(\n",
        "  (\n",
        "    len(input_texts),\n",
        "    max_len_target,\n",
        "    num_words_output\n",
        "  ),\n",
        "  dtype='float32'\n",
        ")\n",
        "\n",
        "# assign the values\n",
        "for i, d in enumerate(decoder_targets):\n",
        "  for t, word in enumerate(d):\n",
        "    decoder_targets_one_hot[i, t, word] = 1\n"
      ],
      "execution_count": 0,
      "outputs": []
    },
    {
      "cell_type": "code",
      "metadata": {
        "id": "LFBfel6Y7IB_",
        "colab_type": "code",
        "colab": {
          "base_uri": "https://localhost:8080/",
          "height": 1000
        },
        "outputId": "ed8c463c-3d2e-43c6-94df-a29732aa2c8d"
      },
      "source": [
        "##### build the model #####\n",
        "\n",
        "# Set up the encoder - simple!\n",
        "encoder_inputs_placeholder = Input(shape=(max_len_input,))\n",
        "x = embedding_layer(encoder_inputs_placeholder)\n",
        "encoder = Bidirectional(LSTM(\n",
        "  LATENT_DIM,\n",
        "  return_sequences=True,\n",
        "  # dropout=0.5 # dropout not available on gpu\n",
        "))\n",
        "encoder_outputs = encoder(x)\n",
        "\n",
        "\n",
        "# Set up the decoder - not so simple\n",
        "decoder_inputs_placeholder = Input(shape=(max_len_target,))\n",
        "\n",
        "# this word embedding will not use pre-trained vectors\n",
        "# although you could\n",
        "decoder_embedding = Embedding(num_words_output, EMBEDDING_DIM)\n",
        "decoder_inputs_x = decoder_embedding(decoder_inputs_placeholder)\n",
        "\n",
        "\n",
        "\n",
        "\n",
        "######### Attention #########\n",
        "# Attention layers need to be global because\n",
        "# they will be repeated Ty times at the decoder\n",
        "attn_repeat_layer = RepeatVector(max_len_input)\n",
        "attn_concat_layer = Concatenate(axis=-1)\n",
        "attn_dense1 = Dense(10, activation='tanh')\n",
        "attn_dense2 = Dense(1, activation=softmax_over_time)\n",
        "attn_dot = Dot(axes=1) # to perform the weighted sum of alpha[t] * h[t]\n",
        "\n",
        "def one_step_attention(h, st_1):\n",
        "  # h = h(1), ..., h(Tx), shape = (Tx, LATENT_DIM * 2)\n",
        "  # st_1 = s(t-1), shape = (LATENT_DIM_DECODER,)\n",
        " \n",
        "  # copy s(t-1) Tx times\n",
        "  # now shape = (Tx, LATENT_DIM_DECODER)\n",
        "  st_1 = attn_repeat_layer(st_1)\n",
        "\n",
        "  # Concatenate all h(t)'s with s(t-1)\n",
        "  # Now of shape (Tx, LATENT_DIM_DECODER + LATENT_DIM * 2)\n",
        "  x = attn_concat_layer([h, st_1])\n",
        "\n",
        "  # Neural net first layer\n",
        "  x = attn_dense1(x)\n",
        "\n",
        "  # Neural net second layer with special softmax over time\n",
        "  alphas = attn_dense2(x)\n",
        "\n",
        "  # \"Dot\" the alphas and the h's\n",
        "  # Remember a.dot(b) = sum over a[t] * b[t]\n",
        "  context = attn_dot([alphas, h])\n",
        "\n",
        "  return context\n",
        "\n",
        "\n",
        "# define the rest of the decoder (after attention)\n",
        "decoder_lstm = LSTM(LATENT_DIM_DECODER, return_state=True)\n",
        "decoder_dense = Dense(num_words_output, activation='softmax')\n",
        "\n",
        "initial_s = Input(shape=(LATENT_DIM_DECODER,), name='s0')\n",
        "initial_c = Input(shape=(LATENT_DIM_DECODER,), name='c0')\n",
        "context_last_word_concat_layer = Concatenate(axis=2)\n",
        "\n",
        "\n",
        "# Unlike previous seq2seq, we cannot get the output\n",
        "# all in one step\n",
        "# Instead we need to do Ty steps\n",
        "# And in each of those steps, we need to consider\n",
        "# all Tx h's\n",
        "\n",
        "# s, c will be re-assigned in each iteration of the loop\n",
        "s = initial_s\n",
        "c = initial_c\n",
        "\n",
        "# collect outputs in a list at first\n",
        "outputs = []\n",
        "for t in range(max_len_target): # Ty times\n",
        "  # get the context using attention\n",
        "  context = one_step_attention(encoder_outputs, s)\n",
        "\n",
        "  # we need a different layer for each time step\n",
        "  selector = Lambda(lambda x: x[:, t:t+1])\n",
        "  xt = selector(decoder_inputs_x)\n",
        "  \n",
        "  # combine \n",
        "  decoder_lstm_input = context_last_word_concat_layer([context, xt])\n",
        "\n",
        "  # pass the combined [context, last word] into the LSTM\n",
        "  # along with [s, c]\n",
        "  # get the new [s, c] and output\n",
        "  o, s, c = decoder_lstm(decoder_lstm_input, initial_state=[s, c])\n",
        "\n",
        "  # final dense layer to get next word prediction\n",
        "  decoder_outputs = decoder_dense(o)\n",
        "  outputs.append(decoder_outputs)\n",
        "\n",
        "\n",
        "# 'outputs' is now a list of length Ty\n",
        "# each element is of shape (batch size, output vocab size)\n",
        "# therefore if we simply stack all the outputs into 1 tensor\n",
        "# it would be of shape T x N x D\n",
        "# we would like it to be of shape N x T x D\n",
        "\n",
        "def stack_and_transpose(x):\n",
        "  # x is a list of length T, each element is a batch_size x output_vocab_size tensor\n",
        "  x = K.stack(x) # is now T x batch_size x output_vocab_size tensor\n",
        "  x = K.permute_dimensions(x, pattern=(1, 0, 2)) # is now batch_size x T x output_vocab_size\n",
        "  return x\n",
        "\n",
        "# make it a layer\n",
        "stacker = Lambda(stack_and_transpose)\n",
        "outputs = stacker(outputs)\n",
        "\n",
        "# create the model\n",
        "model = Model(\n",
        "  inputs=[\n",
        "    encoder_inputs_placeholder,\n",
        "    decoder_inputs_placeholder,\n",
        "    initial_s, \n",
        "    initial_c,\n",
        "  ],\n",
        "  outputs=outputs\n",
        ")\n",
        "\n",
        "# compile the model\n",
        "model.compile(optimizer='rmsprop', loss='categorical_crossentropy', metrics=['accuracy'])\n",
        "\n",
        "# train the model\n",
        "z = np.zeros((NUM_SAMPLES, LATENT_DIM_DECODER)) # initial [s, c]\n",
        "r = model.fit(\n",
        "  [encoder_inputs, decoder_inputs, z, z], decoder_targets_one_hot,\n",
        "  batch_size=BATCH_SIZE,\n",
        "  epochs=EPOCHS,\n",
        "  validation_split=0.2\n",
        ")\n"
      ],
      "execution_count": 18,
      "outputs": [
        {
          "output_type": "stream",
          "text": [
            "WARNING:tensorflow:From /usr/local/lib/python3.6/dist-packages/keras/backend/tensorflow_backend.py:541: The name tf.placeholder is deprecated. Please use tf.compat.v1.placeholder instead.\n",
            "\n",
            "WARNING:tensorflow:From /usr/local/lib/python3.6/dist-packages/keras/backend/tensorflow_backend.py:4432: The name tf.random_uniform is deprecated. Please use tf.random.uniform instead.\n",
            "\n",
            "WARNING:tensorflow:From /usr/local/lib/python3.6/dist-packages/keras/backend/tensorflow_backend.py:216: The name tf.is_variable_initialized is deprecated. Please use tf.compat.v1.is_variable_initialized instead.\n",
            "\n",
            "WARNING:tensorflow:From /usr/local/lib/python3.6/dist-packages/keras/backend/tensorflow_backend.py:223: The name tf.variables_initializer is deprecated. Please use tf.compat.v1.variables_initializer instead.\n",
            "\n",
            "WARNING:tensorflow:From /usr/local/lib/python3.6/dist-packages/keras/optimizers.py:793: The name tf.train.Optimizer is deprecated. Please use tf.compat.v1.train.Optimizer instead.\n",
            "\n",
            "WARNING:tensorflow:From /usr/local/lib/python3.6/dist-packages/keras/backend/tensorflow_backend.py:3576: The name tf.log is deprecated. Please use tf.math.log instead.\n",
            "\n",
            "WARNING:tensorflow:From /usr/local/lib/python3.6/dist-packages/tensorflow_core/python/ops/math_grad.py:1424: where (from tensorflow.python.ops.array_ops) is deprecated and will be removed in a future version.\n",
            "Instructions for updating:\n",
            "Use tf.where in 2.0, which has the same broadcast rule as np.where\n",
            "WARNING:tensorflow:From /usr/local/lib/python3.6/dist-packages/keras/backend/tensorflow_backend.py:1033: The name tf.assign_add is deprecated. Please use tf.compat.v1.assign_add instead.\n",
            "\n",
            "WARNING:tensorflow:From /usr/local/lib/python3.6/dist-packages/keras/backend/tensorflow_backend.py:1020: The name tf.assign is deprecated. Please use tf.compat.v1.assign instead.\n",
            "\n",
            "Train on 8000 samples, validate on 2000 samples\n",
            "Epoch 1/100\n",
            "8000/8000 [==============================] - 19s 2ms/step - loss: 2.5066 - acc: 0.6444 - val_loss: 2.3736 - val_acc: 0.6173\n",
            "Epoch 2/100\n",
            "8000/8000 [==============================] - 13s 2ms/step - loss: 1.8592 - acc: 0.7200 - val_loss: 2.0971 - val_acc: 0.6984\n",
            "Epoch 3/100\n",
            "8000/8000 [==============================] - 14s 2ms/step - loss: 1.6391 - acc: 0.7418 - val_loss: 1.9672 - val_acc: 0.7173\n",
            "Epoch 4/100\n",
            "8000/8000 [==============================] - 13s 2ms/step - loss: 1.4810 - acc: 0.7649 - val_loss: 1.8506 - val_acc: 0.7377\n",
            "Epoch 5/100\n",
            "8000/8000 [==============================] - 13s 2ms/step - loss: 1.3531 - acc: 0.7840 - val_loss: 1.7864 - val_acc: 0.7435\n",
            "Epoch 6/100\n",
            "8000/8000 [==============================] - 13s 2ms/step - loss: 1.2507 - acc: 0.7989 - val_loss: 1.7230 - val_acc: 0.7620\n",
            "Epoch 7/100\n",
            "8000/8000 [==============================] - 13s 2ms/step - loss: 1.1647 - acc: 0.8080 - val_loss: 1.6757 - val_acc: 0.7672\n",
            "Epoch 8/100\n",
            "8000/8000 [==============================] - 13s 2ms/step - loss: 1.0871 - acc: 0.8162 - val_loss: 1.6764 - val_acc: 0.7711\n",
            "Epoch 9/100\n",
            "8000/8000 [==============================] - 14s 2ms/step - loss: 1.0169 - acc: 0.8244 - val_loss: 1.6446 - val_acc: 0.7744\n",
            "Epoch 10/100\n",
            "8000/8000 [==============================] - 14s 2ms/step - loss: 0.9571 - acc: 0.8316 - val_loss: 1.6158 - val_acc: 0.7789\n",
            "Epoch 11/100\n",
            "8000/8000 [==============================] - 13s 2ms/step - loss: 0.9071 - acc: 0.8387 - val_loss: 1.6082 - val_acc: 0.7803\n",
            "Epoch 12/100\n",
            "8000/8000 [==============================] - 13s 2ms/step - loss: 0.8589 - acc: 0.8449 - val_loss: 1.6066 - val_acc: 0.7823\n",
            "Epoch 13/100\n",
            "8000/8000 [==============================] - 13s 2ms/step - loss: 0.8163 - acc: 0.8506 - val_loss: 1.5995 - val_acc: 0.7831\n",
            "Epoch 14/100\n",
            "8000/8000 [==============================] - 13s 2ms/step - loss: 0.7763 - acc: 0.8572 - val_loss: 1.6071 - val_acc: 0.7827\n",
            "Epoch 15/100\n",
            "8000/8000 [==============================] - 14s 2ms/step - loss: 0.7381 - acc: 0.8630 - val_loss: 1.6030 - val_acc: 0.7836\n",
            "Epoch 16/100\n",
            "8000/8000 [==============================] - 13s 2ms/step - loss: 0.6994 - acc: 0.8694 - val_loss: 1.5841 - val_acc: 0.7856\n",
            "Epoch 17/100\n",
            "8000/8000 [==============================] - 13s 2ms/step - loss: 0.6624 - acc: 0.8742 - val_loss: 1.6000 - val_acc: 0.7849\n",
            "Epoch 18/100\n",
            "8000/8000 [==============================] - 13s 2ms/step - loss: 0.6275 - acc: 0.8799 - val_loss: 1.5981 - val_acc: 0.7856\n",
            "Epoch 19/100\n",
            "8000/8000 [==============================] - 13s 2ms/step - loss: 0.5972 - acc: 0.8846 - val_loss: 1.6037 - val_acc: 0.7855\n",
            "Epoch 20/100\n",
            "8000/8000 [==============================] - 13s 2ms/step - loss: 0.5678 - acc: 0.8905 - val_loss: 1.6096 - val_acc: 0.7889\n",
            "Epoch 21/100\n",
            "8000/8000 [==============================] - 14s 2ms/step - loss: 0.5405 - acc: 0.8946 - val_loss: 1.6321 - val_acc: 0.7864\n",
            "Epoch 22/100\n",
            "8000/8000 [==============================] - 13s 2ms/step - loss: 0.5142 - acc: 0.8983 - val_loss: 1.6258 - val_acc: 0.7854\n",
            "Epoch 23/100\n",
            "8000/8000 [==============================] - 14s 2ms/step - loss: 0.4925 - acc: 0.9020 - val_loss: 1.6329 - val_acc: 0.7844\n",
            "Epoch 24/100\n",
            "8000/8000 [==============================] - 13s 2ms/step - loss: 0.4744 - acc: 0.9049 - val_loss: 1.6391 - val_acc: 0.7852\n",
            "Epoch 25/100\n",
            "8000/8000 [==============================] - 13s 2ms/step - loss: 0.4550 - acc: 0.9075 - val_loss: 1.6405 - val_acc: 0.7850\n",
            "Epoch 26/100\n",
            "8000/8000 [==============================] - 13s 2ms/step - loss: 0.4357 - acc: 0.9104 - val_loss: 1.6473 - val_acc: 0.7850\n",
            "Epoch 27/100\n",
            "8000/8000 [==============================] - 13s 2ms/step - loss: 0.4185 - acc: 0.9129 - val_loss: 1.6618 - val_acc: 0.7830\n",
            "Epoch 28/100\n",
            "8000/8000 [==============================] - 14s 2ms/step - loss: 0.4045 - acc: 0.9149 - val_loss: 1.6812 - val_acc: 0.7827\n",
            "Epoch 29/100\n",
            "8000/8000 [==============================] - 13s 2ms/step - loss: 0.3901 - acc: 0.9169 - val_loss: 1.6798 - val_acc: 0.7800\n",
            "Epoch 30/100\n",
            "8000/8000 [==============================] - 13s 2ms/step - loss: 0.3772 - acc: 0.9185 - val_loss: 1.6677 - val_acc: 0.7845\n",
            "Epoch 31/100\n",
            "8000/8000 [==============================] - 13s 2ms/step - loss: 0.3630 - acc: 0.9208 - val_loss: 1.6954 - val_acc: 0.7818\n",
            "Epoch 32/100\n",
            "8000/8000 [==============================] - 13s 2ms/step - loss: 0.3486 - acc: 0.9226 - val_loss: 1.6803 - val_acc: 0.7815\n",
            "Epoch 33/100\n",
            "8000/8000 [==============================] - 13s 2ms/step - loss: 0.3359 - acc: 0.9241 - val_loss: 1.6873 - val_acc: 0.7804\n",
            "Epoch 34/100\n",
            "8000/8000 [==============================] - 13s 2ms/step - loss: 0.3256 - acc: 0.9257 - val_loss: 1.6977 - val_acc: 0.7825\n",
            "Epoch 35/100\n",
            "8000/8000 [==============================] - 13s 2ms/step - loss: 0.3174 - acc: 0.9276 - val_loss: 1.7254 - val_acc: 0.7785\n",
            "Epoch 36/100\n",
            "8000/8000 [==============================] - 13s 2ms/step - loss: 0.3066 - acc: 0.9284 - val_loss: 1.7321 - val_acc: 0.7790\n",
            "Epoch 37/100\n",
            "8000/8000 [==============================] - 13s 2ms/step - loss: 0.2952 - acc: 0.9295 - val_loss: 1.7221 - val_acc: 0.7800\n",
            "Epoch 38/100\n",
            "8000/8000 [==============================] - 13s 2ms/step - loss: 0.2861 - acc: 0.9311 - val_loss: 1.7219 - val_acc: 0.7799\n",
            "Epoch 39/100\n",
            "8000/8000 [==============================] - 13s 2ms/step - loss: 0.2801 - acc: 0.9318 - val_loss: 1.7557 - val_acc: 0.7761\n",
            "Epoch 40/100\n",
            "8000/8000 [==============================] - 13s 2ms/step - loss: 0.2746 - acc: 0.9328 - val_loss: 1.7561 - val_acc: 0.7780\n",
            "Epoch 41/100\n",
            "8000/8000 [==============================] - 13s 2ms/step - loss: 0.2694 - acc: 0.9330 - val_loss: 1.7621 - val_acc: 0.7766\n",
            "Epoch 42/100\n",
            "8000/8000 [==============================] - 13s 2ms/step - loss: 0.2645 - acc: 0.9339 - val_loss: 1.7673 - val_acc: 0.7770\n",
            "Epoch 43/100\n",
            "8000/8000 [==============================] - 13s 2ms/step - loss: 0.2586 - acc: 0.9358 - val_loss: 1.7707 - val_acc: 0.7760\n",
            "Epoch 44/100\n",
            "8000/8000 [==============================] - 13s 2ms/step - loss: 0.2541 - acc: 0.9358 - val_loss: 1.7765 - val_acc: 0.7778\n",
            "Epoch 45/100\n",
            "8000/8000 [==============================] - 13s 2ms/step - loss: 0.2495 - acc: 0.9367 - val_loss: 1.7709 - val_acc: 0.7770\n",
            "Epoch 46/100\n",
            "8000/8000 [==============================] - 13s 2ms/step - loss: 0.2445 - acc: 0.9371 - val_loss: 1.7914 - val_acc: 0.7755\n",
            "Epoch 47/100\n",
            "8000/8000 [==============================] - 13s 2ms/step - loss: 0.2402 - acc: 0.9380 - val_loss: 1.7935 - val_acc: 0.7756\n",
            "Epoch 48/100\n",
            "8000/8000 [==============================] - 13s 2ms/step - loss: 0.2358 - acc: 0.9376 - val_loss: 1.8081 - val_acc: 0.7755\n",
            "Epoch 49/100\n",
            "8000/8000 [==============================] - 13s 2ms/step - loss: 0.2321 - acc: 0.9386 - val_loss: 1.8245 - val_acc: 0.7757\n",
            "Epoch 50/100\n",
            "8000/8000 [==============================] - 13s 2ms/step - loss: 0.2282 - acc: 0.9393 - val_loss: 1.8215 - val_acc: 0.7740\n",
            "Epoch 51/100\n",
            "8000/8000 [==============================] - 13s 2ms/step - loss: 0.2240 - acc: 0.9400 - val_loss: 1.8380 - val_acc: 0.7747\n",
            "Epoch 52/100\n",
            "8000/8000 [==============================] - 13s 2ms/step - loss: 0.2203 - acc: 0.9400 - val_loss: 1.8365 - val_acc: 0.7740\n",
            "Epoch 53/100\n",
            "8000/8000 [==============================] - 13s 2ms/step - loss: 0.2159 - acc: 0.9414 - val_loss: 1.8335 - val_acc: 0.7740\n",
            "Epoch 54/100\n",
            "8000/8000 [==============================] - 13s 2ms/step - loss: 0.2125 - acc: 0.9411 - val_loss: 1.8387 - val_acc: 0.7740\n",
            "Epoch 55/100\n",
            "8000/8000 [==============================] - 13s 2ms/step - loss: 0.2084 - acc: 0.9412 - val_loss: 1.8606 - val_acc: 0.7733\n",
            "Epoch 56/100\n",
            "8000/8000 [==============================] - 13s 2ms/step - loss: 0.2048 - acc: 0.9419 - val_loss: 1.8595 - val_acc: 0.7728\n",
            "Epoch 57/100\n",
            "8000/8000 [==============================] - 13s 2ms/step - loss: 0.2009 - acc: 0.9426 - val_loss: 1.8654 - val_acc: 0.7734\n",
            "Epoch 58/100\n",
            "8000/8000 [==============================] - 13s 2ms/step - loss: 0.1974 - acc: 0.9425 - val_loss: 1.8822 - val_acc: 0.7713\n",
            "Epoch 59/100\n",
            "8000/8000 [==============================] - 13s 2ms/step - loss: 0.1929 - acc: 0.9431 - val_loss: 1.8674 - val_acc: 0.7734\n",
            "Epoch 60/100\n",
            "8000/8000 [==============================] - 13s 2ms/step - loss: 0.1888 - acc: 0.9433 - val_loss: 1.8665 - val_acc: 0.7730\n",
            "Epoch 61/100\n",
            "8000/8000 [==============================] - 13s 2ms/step - loss: 0.1857 - acc: 0.9432 - val_loss: 1.8806 - val_acc: 0.7735\n",
            "Epoch 62/100\n",
            "8000/8000 [==============================] - 13s 2ms/step - loss: 0.1828 - acc: 0.9436 - val_loss: 1.8882 - val_acc: 0.7720\n",
            "Epoch 63/100\n",
            "8000/8000 [==============================] - 13s 2ms/step - loss: 0.1800 - acc: 0.9433 - val_loss: 1.8832 - val_acc: 0.7733\n",
            "Epoch 64/100\n",
            "8000/8000 [==============================] - 13s 2ms/step - loss: 0.1775 - acc: 0.9442 - val_loss: 1.8975 - val_acc: 0.7717\n",
            "Epoch 65/100\n",
            "8000/8000 [==============================] - 13s 2ms/step - loss: 0.1746 - acc: 0.9440 - val_loss: 1.8991 - val_acc: 0.7736\n",
            "Epoch 66/100\n",
            "8000/8000 [==============================] - 13s 2ms/step - loss: 0.1725 - acc: 0.9441 - val_loss: 1.9138 - val_acc: 0.7717\n",
            "Epoch 67/100\n",
            "8000/8000 [==============================] - 13s 2ms/step - loss: 0.1698 - acc: 0.9447 - val_loss: 1.9025 - val_acc: 0.7719\n",
            "Epoch 68/100\n",
            "8000/8000 [==============================] - 13s 2ms/step - loss: 0.1682 - acc: 0.9447 - val_loss: 1.9069 - val_acc: 0.7714\n",
            "Epoch 69/100\n",
            "8000/8000 [==============================] - 13s 2ms/step - loss: 0.1669 - acc: 0.9444 - val_loss: 1.9073 - val_acc: 0.7711\n",
            "Epoch 70/100\n",
            "8000/8000 [==============================] - 13s 2ms/step - loss: 0.1646 - acc: 0.9440 - val_loss: 1.9102 - val_acc: 0.7720\n",
            "Epoch 71/100\n",
            "8000/8000 [==============================] - 13s 2ms/step - loss: 0.1629 - acc: 0.9447 - val_loss: 1.9287 - val_acc: 0.7715\n",
            "Epoch 72/100\n",
            "8000/8000 [==============================] - 13s 2ms/step - loss: 0.1601 - acc: 0.9451 - val_loss: 1.9255 - val_acc: 0.7713\n",
            "Epoch 73/100\n",
            "8000/8000 [==============================] - 13s 2ms/step - loss: 0.1584 - acc: 0.9449 - val_loss: 1.9260 - val_acc: 0.7716\n",
            "Epoch 74/100\n",
            "8000/8000 [==============================] - 13s 2ms/step - loss: 0.1572 - acc: 0.9450 - val_loss: 1.9516 - val_acc: 0.7697\n",
            "Epoch 75/100\n",
            "8000/8000 [==============================] - 13s 2ms/step - loss: 0.1555 - acc: 0.9454 - val_loss: 1.9476 - val_acc: 0.7709\n",
            "Epoch 76/100\n",
            "8000/8000 [==============================] - 15s 2ms/step - loss: 0.1540 - acc: 0.9453 - val_loss: 1.9431 - val_acc: 0.7709\n",
            "Epoch 77/100\n",
            "8000/8000 [==============================] - 13s 2ms/step - loss: 0.1523 - acc: 0.9457 - val_loss: 1.9574 - val_acc: 0.7698\n",
            "Epoch 78/100\n",
            "8000/8000 [==============================] - 13s 2ms/step - loss: 0.1511 - acc: 0.9456 - val_loss: 1.9633 - val_acc: 0.7701\n",
            "Epoch 79/100\n",
            "8000/8000 [==============================] - 13s 2ms/step - loss: 0.1496 - acc: 0.9451 - val_loss: 1.9636 - val_acc: 0.7713\n",
            "Epoch 80/100\n",
            "8000/8000 [==============================] - 13s 2ms/step - loss: 0.1483 - acc: 0.9455 - val_loss: 1.9779 - val_acc: 0.7705\n",
            "Epoch 81/100\n",
            "8000/8000 [==============================] - 13s 2ms/step - loss: 0.1465 - acc: 0.9459 - val_loss: 1.9767 - val_acc: 0.7704\n",
            "Epoch 82/100\n",
            "8000/8000 [==============================] - 14s 2ms/step - loss: 0.1456 - acc: 0.9447 - val_loss: 1.9793 - val_acc: 0.7703\n",
            "Epoch 83/100\n",
            "8000/8000 [==============================] - 14s 2ms/step - loss: 0.1438 - acc: 0.9460 - val_loss: 1.9831 - val_acc: 0.7710\n",
            "Epoch 84/100\n",
            "8000/8000 [==============================] - 13s 2ms/step - loss: 0.1430 - acc: 0.9458 - val_loss: 1.9995 - val_acc: 0.7700\n",
            "Epoch 85/100\n",
            "8000/8000 [==============================] - 13s 2ms/step - loss: 0.1418 - acc: 0.9459 - val_loss: 1.9934 - val_acc: 0.7710\n",
            "Epoch 86/100\n",
            "8000/8000 [==============================] - 14s 2ms/step - loss: 0.1406 - acc: 0.9457 - val_loss: 2.0032 - val_acc: 0.7708\n",
            "Epoch 87/100\n",
            "8000/8000 [==============================] - 13s 2ms/step - loss: 0.1395 - acc: 0.9458 - val_loss: 2.0112 - val_acc: 0.7697\n",
            "Epoch 88/100\n",
            "8000/8000 [==============================] - 14s 2ms/step - loss: 0.1389 - acc: 0.9452 - val_loss: 2.0126 - val_acc: 0.7700\n",
            "Epoch 89/100\n",
            "8000/8000 [==============================] - 14s 2ms/step - loss: 0.1376 - acc: 0.9456 - val_loss: 2.0241 - val_acc: 0.7698\n",
            "Epoch 90/100\n",
            "8000/8000 [==============================] - 13s 2ms/step - loss: 0.1369 - acc: 0.9453 - val_loss: 2.0161 - val_acc: 0.7701\n",
            "Epoch 91/100\n",
            "8000/8000 [==============================] - 14s 2ms/step - loss: 0.1355 - acc: 0.9463 - val_loss: 2.0182 - val_acc: 0.7694\n",
            "Epoch 92/100\n",
            "8000/8000 [==============================] - 14s 2ms/step - loss: 0.1348 - acc: 0.9453 - val_loss: 2.0314 - val_acc: 0.7701\n",
            "Epoch 93/100\n",
            "8000/8000 [==============================] - 13s 2ms/step - loss: 0.1345 - acc: 0.9454 - val_loss: 2.0465 - val_acc: 0.7692\n",
            "Epoch 94/100\n",
            "8000/8000 [==============================] - 14s 2ms/step - loss: 0.1333 - acc: 0.9455 - val_loss: 2.0346 - val_acc: 0.7706\n",
            "Epoch 95/100\n",
            "8000/8000 [==============================] - 14s 2ms/step - loss: 0.1329 - acc: 0.9456 - val_loss: 2.0396 - val_acc: 0.7696\n",
            "Epoch 96/100\n",
            "8000/8000 [==============================] - 13s 2ms/step - loss: 0.1320 - acc: 0.9453 - val_loss: 2.0407 - val_acc: 0.7710\n",
            "Epoch 97/100\n",
            "8000/8000 [==============================] - 13s 2ms/step - loss: 0.1310 - acc: 0.9452 - val_loss: 2.0364 - val_acc: 0.7687\n",
            "Epoch 98/100\n",
            "8000/8000 [==============================] - 13s 2ms/step - loss: 0.1309 - acc: 0.9449 - val_loss: 2.0479 - val_acc: 0.7699\n",
            "Epoch 99/100\n",
            "8000/8000 [==============================] - 13s 2ms/step - loss: 0.1296 - acc: 0.9453 - val_loss: 2.0518 - val_acc: 0.7702\n",
            "Epoch 100/100\n",
            "8000/8000 [==============================] - 14s 2ms/step - loss: 0.1289 - acc: 0.9452 - val_loss: 2.0623 - val_acc: 0.7700\n"
          ],
          "name": "stdout"
        }
      ]
    },
    {
      "cell_type": "code",
      "metadata": {
        "id": "88U7asW3FnqW",
        "colab_type": "code",
        "colab": {
          "base_uri": "https://localhost:8080/",
          "height": 265
        },
        "outputId": "c3dd2d3c-dbdb-4910-f2c5-9e1070577d2b"
      },
      "source": [
        "# plot some data\n",
        "plt.plot(r.history['loss'], label='loss')\n",
        "plt.plot(r.history['val_loss'], label='val_loss')\n",
        "plt.legend()\n",
        "plt.show()\n"
      ],
      "execution_count": 19,
      "outputs": [
        {
          "output_type": "display_data",
          "data": {
            "image/png": "[encoded data removed]",
            "text/plain": [
              "<Figure size 432x288 with 1 Axes>"
            ]
          },
          "metadata": {
            "tags": []
          }
        }
      ]
    },
    {
      "cell_type": "code",
      "metadata": {
        "id": "S8HU1DtwGBB0",
        "colab_type": "code",
        "colab": {
          "base_uri": "https://localhost:8080/",
          "height": 265
        },
        "outputId": "62f124da-1d0f-4968-c100-c2c3194ca2ad"
      },
      "source": [
        "# accuracies\n",
        "plt.plot(r.history['acc'], label='acc')\n",
        "plt.plot(r.history['val_acc'], label='val_acc')\n",
        "plt.legend()\n",
        "plt.show()"
      ],
      "execution_count": 22,
      "outputs": [
        {
          "output_type": "display_data",
          "data": {
            "image/png": "[encoded data removed]",
            "text/plain": [
              "<Figure size 432x288 with 1 Axes>"
            ]
          },
          "metadata": {
            "tags": []
          }
        }
      ]
    },
    {
      "cell_type": "code",
      "metadata": {
        "id": "esVgxcR_GMpg",
        "colab_type": "code",
        "colab": {}
      },
      "source": [
        "##### Make predictions #####\n",
        "# As with the poetry example, we need to create another model\n",
        "# that can take in the RNN state and previous word as input\n",
        "# and accept a T=1 sequence.\n",
        "\n",
        "# The encoder will be stand-alone\n",
        "# From this we will get our initial decoder hidden state\n",
        "# i.e. h(1), ..., h(Tx)\n",
        "encoder_model = Model(encoder_inputs_placeholder, encoder_outputs)\n",
        "\n",
        "# next we define a T=1 decoder model\n",
        "encoder_outputs_as_input = Input(shape=(max_len_input, LATENT_DIM * 2,))\n",
        "decoder_inputs_single = Input(shape=(1,))\n",
        "decoder_inputs_single_x = decoder_embedding(decoder_inputs_single)\n",
        "\n",
        "# no need to loop over attention steps this time because there is only one step\n",
        "context = one_step_attention(encoder_outputs_as_input, initial_s)\n",
        "\n",
        "# combine context with last word\n",
        "decoder_lstm_input = context_last_word_concat_layer([context, decoder_inputs_single_x])\n",
        "\n",
        "# lstm and final dense\n",
        "o, s, c = decoder_lstm(decoder_lstm_input, initial_state=[initial_s, initial_c])\n",
        "decoder_outputs = decoder_dense(o)\n",
        "\n",
        "\n",
        "# note: we don't really need the final stack and tranpose\n",
        "# because there's only 1 output\n",
        "# it is already of size N x D\n",
        "# no need to make it 1 x N x D --> N x 1 x D"
      ],
      "execution_count": 0,
      "outputs": []
    },
    {
      "cell_type": "code",
      "metadata": {
        "id": "vnqUkbkHGVqH",
        "colab_type": "code",
        "colab": {}
      },
      "source": [
        "# create the model object\n",
        "decoder_model = Model(\n",
        "  inputs=[\n",
        "    decoder_inputs_single,\n",
        "    encoder_outputs_as_input,\n",
        "    initial_s, \n",
        "    initial_c\n",
        "  ],\n",
        "  outputs=[decoder_outputs, s, c]\n",
        ")\n",
        "\n",
        "\n",
        "\n",
        "# map indexes back into real words\n",
        "# so we can view the results\n",
        "idx2word_eng = {v:k for k, v in word2idx_inputs.items()}\n",
        "idx2word_trans = {v:k for k, v in word2idx_outputs.items()}\n"
      ],
      "execution_count": 0,
      "outputs": []
    },
    {
      "cell_type": "code",
      "metadata": {
        "id": "L2VCXnBmGaaP",
        "colab_type": "code",
        "colab": {}
      },
      "source": [
        "def decode_sequence(input_seq):\n",
        "  # Encode the input as state vectors.\n",
        "  enc_out = encoder_model.predict(input_seq)\n",
        "\n",
        "  # Generate empty target sequence of length 1.\n",
        "  target_seq = np.zeros((1, 1))\n",
        "  \n",
        "  # Populate the first character of target sequence with the start character.\n",
        "  # NOTE: tokenizer lower-cases all words\n",
        "  target_seq[0, 0] = word2idx_outputs['<sos>']\n",
        "\n",
        "  # if we get this we break\n",
        "  eos = word2idx_outputs['<eos>']\n",
        "\n",
        "\n",
        "  # [s, c] will be updated in each loop iteration\n",
        "  s = np.zeros((1, LATENT_DIM_DECODER))\n",
        "  c = np.zeros((1, LATENT_DIM_DECODER))\n",
        "\n",
        "\n",
        "  # Create the translation\n",
        "  output_sentence = []\n",
        "  for _ in range(max_len_target):\n",
        "    o, s, c = decoder_model.predict([target_seq, enc_out, s, c])\n",
        "        \n",
        "\n",
        "    # Get next word\n",
        "    idx = np.argmax(o.flatten())\n",
        "\n",
        "    # End sentence of EOS\n",
        "    if eos == idx:\n",
        "      break\n",
        "\n",
        "    word = ''\n",
        "    if idx > 0:\n",
        "      word = idx2word_trans[idx]\n",
        "      output_sentence.append(word)\n",
        "\n",
        "    # Update the decoder input\n",
        "    # which is just the word just generated\n",
        "    target_seq[0, 0] = idx\n",
        "\n",
        "  return ' '.join(output_sentence)\n",
        "\n"
      ],
      "execution_count": 0,
      "outputs": []
    },
    {
      "cell_type": "code",
      "metadata": {
        "id": "4GN2e0QtGfEz",
        "colab_type": "code",
        "colab": {
          "base_uri": "https://localhost:8080/",
          "height": 527
        },
        "outputId": "f5e794d6-63c9-408a-b55a-9025134adac9"
      },
      "source": [
        "while True:\n",
        "  # Do some test translations\n",
        "  i = np.random.choice(len(input_texts))\n",
        "  input_seq = encoder_inputs[i:i+1]\n",
        "  translation = decode_sequence(input_seq)\n",
        "  print('-')\n",
        "  print('Input sentence:', input_texts[i])\n",
        "  print('Predicted translation:', translation)\n",
        "  print('Actual translation:', target_texts[i])\n",
        "\n",
        "  ans = input(\"Continue? [Y/n]\")\n",
        "  if ans and ans.lower().startswith('n'):\n",
        "    break\n"
      ],
      "execution_count": 26,
      "outputs": [
        {
          "output_type": "stream",
          "text": [
            "-\n",
            "Input sentence: Be discreet.\n",
            "Predicted translation: soyez discrète !\n",
            "Actual translation: Sois discrète ! <eos>\n",
            "Continue? [Y/n]Y\n",
            "-\n",
            "Input sentence: Let me talk.\n",
            "Predicted translation: laissez-moi parler.\n",
            "Actual translation: Laissez-moi parler. <eos>\n",
            "Continue? [Y/n]Y\n",
            "-\n",
            "Input sentence: Tom forgot.\n",
            "Predicted translation: tom oublia.\n",
            "Actual translation: Tom oublia. <eos>\n",
            "Continue? [Y/n]Y\n",
            "-\n",
            "Input sentence: They loved Tom.\n",
            "Predicted translation: elles aiment tom.\n",
            "Actual translation: Ils aimaient Tom. <eos>\n",
            "Continue? [Y/n]Y\n",
            "-\n",
            "Input sentence: You're funny.\n",
            "Predicted translation: vous êtes marrante.\n",
            "Actual translation: Vous êtes marrant. <eos>\n",
            "Continue? [Y/n]Y\n",
            "-\n",
            "Input sentence: Are you relaxed?\n",
            "Predicted translation: êtes-vous content ?\n",
            "Actual translation: Êtes-vous détendues ? <eos>\n",
            "Continue? [Y/n]n\n"
          ],
          "name": "stdout"
        }
      ]
    },
    {
      "cell_type": "code",
      "metadata": {
        "id": "qRWlA8B0GYQ0",
        "colab_type": "code",
        "colab": {}
      },
      "source": [
        ""
      ],
      "execution_count": 0,
      "outputs": []
    }
  ]
}